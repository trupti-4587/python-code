{
 "cells": [
  {
   "cell_type": "code",
   "execution_count": 3,
   "id": "a1cfc69d-2527-41c8-b252-79f031a59661",
   "metadata": {},
   "outputs": [
    {
     "name": "stdin",
     "output_type": "stream",
     "text": [
      "enter a string: abcdef\n"
     ]
    },
    {
     "ename": "AttributeError",
     "evalue": "'str' object has no attribute 'reverse'",
     "output_type": "error",
     "traceback": [
      "\u001b[1;31m---------------------------------------------------------------------------\u001b[0m",
      "\u001b[1;31mAttributeError\u001b[0m                            Traceback (most recent call last)",
      "Cell \u001b[1;32mIn[3], line 2\u001b[0m\n\u001b[0;32m      1\u001b[0m s\u001b[38;5;241m=\u001b[39m\u001b[38;5;28minput\u001b[39m(\u001b[38;5;124m\"\u001b[39m\u001b[38;5;124menter a string:\u001b[39m\u001b[38;5;124m\"\u001b[39m)\n\u001b[1;32m----> 2\u001b[0m \u001b[43ms\u001b[49m\u001b[38;5;241;43m.\u001b[39;49m\u001b[43mreverse\u001b[49m()\n\u001b[0;32m      3\u001b[0m \u001b[38;5;28mprint\u001b[39m(s)\n",
      "\u001b[1;31mAttributeError\u001b[0m: 'str' object has no attribute 'reverse'"
     ]
    }
   ],
   "source": [
    "s=input(\"enter a string:\")\n",
    "s.reverse()\n",
    "print(s)"
   ]
  },
  {
   "cell_type": "code",
   "execution_count": 3,
   "id": "e8731c98-6216-4b2d-82ec-4913f9cc8914",
   "metadata": {},
   "outputs": [
    {
     "name": "stdout",
     "output_type": "stream",
     "text": [
      "item added to the stack\n",
      "item added to the stack\n",
      "item added to the stack\n",
      "[3, 4, 9]\n"
     ]
    },
    {
     "ename": "TypeError",
     "evalue": "reverse() missing 1 required positional argument: 'e'",
     "output_type": "error",
     "traceback": [
      "\u001b[1;31m---------------------------------------------------------------------------\u001b[0m",
      "\u001b[1;31mTypeError\u001b[0m                                 Traceback (most recent call last)",
      "Cell \u001b[1;32mIn[3], line 16\u001b[0m\n\u001b[0;32m     13\u001b[0m add(\u001b[38;5;241m9\u001b[39m)\n\u001b[0;32m     14\u001b[0m \u001b[38;5;28mprint\u001b[39m(s)\n\u001b[1;32m---> 16\u001b[0m \u001b[43mreverse\u001b[49m\u001b[43m(\u001b[49m\u001b[43m)\u001b[49m\n\u001b[0;32m     17\u001b[0m \u001b[38;5;28mprint\u001b[39m(s)\n",
      "\u001b[1;31mTypeError\u001b[0m: reverse() missing 1 required positional argument: 'e'"
     ]
    }
   ],
   "source": [
    "def add(e):\n",
    "    s.append(e)\n",
    "    print(\"item added to the stack\")\n",
    "\n",
    "def reverse(e):\n",
    "    s.reverse(e)\n",
    "    print(\"item is reversed from the stack\")\n",
    "\n",
    "\n",
    "s=[]\n",
    "add(3)\n",
    "add(4)\n",
    "add(9)\n",
    "print(s)\n",
    "\n",
    "reverse()\n",
    "print(s)"
   ]
  },
  {
   "cell_type": "code",
   "execution_count": 1,
   "id": "c28e623f-28db-4d00-915f-09813fe5413b",
   "metadata": {},
   "outputs": [
    {
     "name": "stdin",
     "output_type": "stream",
     "text": [
      " this is a car\n"
     ]
    },
    {
     "name": "stdout",
     "output_type": "stream",
     "text": [
      "rac a si siht"
     ]
    }
   ],
   "source": [
    "a=input()\n",
    "s=[]\n",
    "for e in a:\n",
    "    s.append(e)\n",
    "\n",
    "while len(s)>0:\n",
    "    print(s.pop(),end=\"\")\n",
    "\n",
    "\n",
    "    \n"
   ]
  },
  {
   "cell_type": "code",
   "execution_count": 2,
   "id": "b5d9900a-820e-40c1-b636-5a146e41da3f",
   "metadata": {},
   "outputs": [
    {
     "name": "stdin",
     "output_type": "stream",
     "text": [
      " this is a car\n"
     ]
    },
    {
     "name": "stdout",
     "output_type": "stream",
     "text": [
      "13\n",
      "r\n",
      "12\n",
      "a\n",
      "11\n",
      "c\n",
      "10\n",
      " \n",
      "9\n",
      "a\n",
      "8\n",
      " \n",
      "7\n",
      "s\n",
      "6\n",
      "i\n",
      "5\n",
      " \n",
      "4\n",
      "s\n",
      "3\n",
      "i\n",
      "2\n",
      "h\n",
      "1\n",
      "t\n"
     ]
    }
   ],
   "source": [
    "a=input()\n",
    "s=[]\n",
    "for e in a:\n",
    "    s.append(e)\n",
    "\n",
    "while len(s)>0:\n",
    "    print(len(s))\n",
    "    print(s.pop())\n",
    "\n"
   ]
  },
  {
   "cell_type": "code",
   "execution_count": 4,
   "id": "c40a5132-6015-4bf7-bfe2-d985f42ac254",
   "metadata": {},
   "outputs": [
    {
     "name": "stdin",
     "output_type": "stream",
     "text": [
      " this is a car\n"
     ]
    },
    {
     "name": "stdout",
     "output_type": "stream",
     "text": [
      "car a is this "
     ]
    }
   ],
   "source": [
    "a=input()\n",
    "s=[]\n",
    "for e in a.split():\n",
    "    s.append(e)\n",
    "\n",
    "while len(s)>0:\n",
    "     print(s.pop(),end=' ')\n"
   ]
  },
  {
   "cell_type": "code",
   "execution_count": 2,
   "id": "bcfe2bc6-43df-46de-b8e0-ffb545423218",
   "metadata": {},
   "outputs": [
    {
     "name": "stdin",
     "output_type": "stream",
     "text": [
      " (a+b)+cd/*\n"
     ]
    },
    {
     "name": "stdout",
     "output_type": "stream",
     "text": [
      "['(']\n",
      "[]\n",
      "['+']\n",
      "['+', '/']\n",
      " ab+cd/*+\n"
     ]
    }
   ],
   "source": [
    "def prec(e):     #infix to postfix\n",
    "    if e ==\"^\":\n",
    "        return 3\n",
    "    elif e ==\"*\" or e ==\"/\" :\n",
    "        return 2\n",
    "    elif e == \"+\" or e ==\"-\" :\n",
    "        return 1\n",
    "    else:\n",
    "        return -1\n",
    "\n",
    "def asoc(e):\n",
    "    if e== '^':\n",
    "        return 'R'\n",
    "    else:\n",
    "        return 'L'\n",
    "        \n",
    "        \n",
    "    \n",
    "exp = input()\n",
    "s=[]\n",
    "result=\" \"\n",
    "for e in exp:\n",
    "    if e.isalnum():\n",
    "        result +=e\n",
    "    elif e == '(':\n",
    "        s.append(e)\n",
    "    elif e == ')':\n",
    "        while s[-1] != '(':\n",
    "            result += s.pop()\n",
    "        s.pop()\n",
    "    else:\n",
    "        print(s)\n",
    "        while s and (prec(e)<prec(s[-1]) or \n",
    "                     (prec(e)==prec(s[-1]) and asoc(e)=='L')):\n",
    "            result+=s.pop()\n",
    "        s.append(e)\n",
    "\n",
    "while s:\n",
    "    result += s.pop()\n",
    "        \n",
    "print(result)\n",
    "    "
   ]
  },
  {
   "cell_type": "markdown",
   "id": "db17f4a5-995a-4f4e-9f8c-4e1610fddd55",
   "metadata": {},
   "source": [
    "Once upon a time there is a king wo got spelled by a whitch that whenever he eat he have to take care of what is Sequence of\n",
    "his food intake.\n",
    "if he eats similar food one after other it will cancel out the its effect and total energy was decreased.\n",
    "\n",
    "example:\n",
    "[\"apple\",\"Dal\",\"chapthi\",\"rice\",\"rice\",\"apple\",\"apple\",\"dal\",\"rice\",\"dal\",\"chapthi\",\"chapthi\"]\n",
    "\n",
    "consider that energy released by each item will be same which is 1 unit\n",
    "\n",
    "so the total energy intake is 6 unit as per above example.\n",
    "\n",
    "write a code to find the energy intake is 6 unit as per above example.\n",
    "\n"
   ]
  },
  {
   "cell_type": "code",
   "execution_count": 4,
   "id": "3985104c-9524-4c63-ba21-77b5016ee743",
   "metadata": {},
   "outputs": [
    {
     "name": "stdin",
     "output_type": "stream",
     "text": [
      " apple dal chapthi rice rice apple apple chapthi rice dal chapthi chapthi\n"
     ]
    },
    {
     "name": "stdout",
     "output_type": "stream",
     "text": [
      "['apple', 'dal', 'chapthi', 'rice', 'rice', 'apple', 'apple', 'chapthi', 'rice', 'dal', 'chapthi', 'chapthi']\n",
      "4 ['apple', 'dal', 'rice', 'dal']\n"
     ]
    }
   ],
   "source": [
    "a=[item for item in input().split()]\n",
    "print(a)\n",
    "s=[]\n",
    "for item in a:\n",
    "    if not s:\n",
    "        s.append(item)\n",
    "    elif s[-1] == item:\n",
    "        s.pop()\n",
    "    else:\n",
    "        s.append(item)\n",
    "        \n",
    "\n",
    "print(len(s),s)\n",
    "    \n"
   ]
  },
  {
   "cell_type": "code",
   "execution_count": 5,
   "id": "a794b019-75ac-4476-8458-f04676ac3517",
   "metadata": {},
   "outputs": [
    {
     "name": "stdin",
     "output_type": "stream",
     "text": [
      " a d c r r a a d r d c c\n"
     ]
    },
    {
     "name": "stdout",
     "output_type": "stream",
     "text": [
      "['a', 'd', 'c', 'r', 'r', 'a', 'a', 'd', 'r', 'd', 'c', 'c']\n",
      "6 ['a', 'd', 'c', 'd', 'r', 'd']\n"
     ]
    }
   ],
   "source": [
    "a=[item for item in input().split()]\n",
    "print(a)\n",
    "s=[]\n",
    "for item in a:\n",
    "    if not s:\n",
    "        s.append(item)\n",
    "    elif s[-1] == item:\n",
    "        s.pop()\n",
    "    else:\n",
    "        s.append(item)\n",
    "        \n",
    "\n",
    "print(len(s),s)\n",
    "    \n"
   ]
  },
  {
   "cell_type": "code",
   "execution_count": 2,
   "id": "d668b3f1-3b1f-40aa-bb2f-1d3701305e26",
   "metadata": {},
   "outputs": [
    {
     "name": "stdin",
     "output_type": "stream",
     "text": [
      " i am (good girl)\n"
     ]
    },
    {
     "name": "stdout",
     "output_type": "stream",
     "text": [
      "valid string\n"
     ]
    }
   ],
   "source": [
    "S=input()\n",
    "x=y=z=0\n",
    "for c in S:\n",
    "    match (c):\n",
    "         case '(':x+=1\n",
    "         case ')':x-=1\n",
    "         case '{':y+=1\n",
    "         case '}':y-=1\n",
    "         case '[':z+=1\n",
    "         case ']':z-=1\n",
    "         case _: continue\n",
    "\n",
    "if x+y+z == 0:\n",
    "    print(\"valid string\")\n",
    "else:\n",
    "    print(\"invalid string\")\n",
    "    "
   ]
  },
  {
   "cell_type": "code",
   "execution_count": 1,
   "id": "751b2887-f6c3-4ddc-a228-d7b9a1b34c5d",
   "metadata": {},
   "outputs": [
    {
     "name": "stdin",
     "output_type": "stream",
     "text": [
      " i am {good)\n"
     ]
    },
    {
     "name": "stdout",
     "output_type": "stream",
     "text": [
      "invalid string\n"
     ]
    }
   ],
   "source": [
    "S=input()\n",
    "x=y=z=1\n",
    "for c in S:\n",
    "    match (c):\n",
    "         case '(':x+=1\n",
    "             \n",
    "         case ')':x-=1\n",
    "         case '{':y+=1\n",
    "         case '}':y-=1\n",
    "         case '[':z+=1\n",
    "         case ']':z-=1\n",
    "         case _: continue\n",
    "\n",
    "if x==0 and y == 0 and z==0:\n",
    "    print(\"valid string\")\n",
    "else:\n",
    "    print(\"invalid string\")\n",
    "    "
   ]
  },
  {
   "cell_type": "code",
   "execution_count": 27,
   "id": "4ac97915-aca8-40a6-9af8-0ad670ec4d58",
   "metadata": {},
   "outputs": [
    {
     "name": "stdin",
     "output_type": "stream",
     "text": [
      " y43uqawj{(wefjrye})\n"
     ]
    },
    {
     "name": "stdout",
     "output_type": "stream",
     "text": [
      "invalid\n"
     ]
    }
   ],
   "source": [
    "s=input()\n",
    "S=[]\n",
    "for e in s:\n",
    "     if e  ==\"(\" or e ==\"{\" or e ==\"[\":\n",
    "        S.append(e)\n",
    "     elif (e == ')' and S[-1]=='(') or (e == '}' and S[-1]=='{') or (e == '[' and S[-1]=='['):\n",
    "            S.pop()\n",
    "     else:\n",
    "         continue\n",
    "        \n",
    "\n",
    "if not S:\n",
    "    print(\"valid\")\n",
    "else:\n",
    "    print(\"invalid\")\n",
    "\n",
    "            \n",
    "        "
   ]
  },
  {
   "cell_type": "code",
   "execution_count": 32,
   "id": "33c67102-fb4d-472f-a1a2-3bbf282dfd2b",
   "metadata": {},
   "outputs": [],
   "source": [
    "def Fun(x):\n",
    "    if x==0:#base case\n",
    "        return x\n",
    "    else:\n",
    "        print (x)\n",
    "    return Fun(x-1)"
   ]
  },
  {
   "cell_type": "code",
   "execution_count": null,
   "id": "0ad19ece-45cd-4ba1-93e0-6403c9ae2977",
   "metadata": {},
   "outputs": [],
   "source": [
    "for i in range(1,11):\n",
    "    print(i*2)"
   ]
  }
 ],
 "metadata": {
  "kernelspec": {
   "display_name": "Python 3 (ipykernel)",
   "language": "python",
   "name": "python3"
  },
  "language_info": {
   "codemirror_mode": {
    "name": "ipython",
    "version": 3
   },
   "file_extension": ".py",
   "mimetype": "text/x-python",
   "name": "python",
   "nbconvert_exporter": "python",
   "pygments_lexer": "ipython3",
   "version": "3.12.3"
  }
 },
 "nbformat": 4,
 "nbformat_minor": 5
}
