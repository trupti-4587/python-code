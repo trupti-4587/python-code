{
 "cells": [
  {
   "cell_type": "code",
   "execution_count": 1,
   "id": "7f75a4eb-6fe0-4d6f-8573-90afc85e4086",
   "metadata": {},
   "outputs": [
    {
     "ename": "NameError",
     "evalue": "name 'warning' is not defined",
     "output_type": "error",
     "traceback": [
      "\u001b[1;31m---------------------------------------------------------------------------\u001b[0m",
      "\u001b[1;31mNameError\u001b[0m                                 Traceback (most recent call last)",
      "Cell \u001b[1;32mIn[1], line 16\u001b[0m\n\u001b[0;32m     14\u001b[0m \u001b[38;5;66;03m# Analyze the log file\u001b[39;00m\n\u001b[0;32m     15\u001b[0m log_file \u001b[38;5;241m=\u001b[39m \u001b[38;5;124m'\u001b[39m\u001b[38;5;124msystem_logs.txt\u001b[39m\u001b[38;5;124m'\u001b[39m\n\u001b[1;32m---> 16\u001b[0m errors_found, warnings_found \u001b[38;5;241m=\u001b[39m \u001b[43manalyze_log_file\u001b[49m\u001b[43m(\u001b[49m\u001b[43mlog_file\u001b[49m\u001b[43m)\u001b[49m\n\u001b[0;32m     18\u001b[0m \u001b[38;5;66;03m# Print the results\u001b[39;00m\n\u001b[0;32m     19\u001b[0m \u001b[38;5;28mprint\u001b[39m(\u001b[38;5;124m'\u001b[39m\u001b[38;5;124mErrors found:\u001b[39m\u001b[38;5;124m'\u001b[39m)\n",
      "Cell \u001b[1;32mIn[1], line 11\u001b[0m, in \u001b[0;36manalyze_log_file\u001b[1;34m(log_file)\u001b[0m\n\u001b[0;32m      9\u001b[0m         \u001b[38;5;28;01melif\u001b[39;00m \u001b[38;5;124m'\u001b[39m\u001b[38;5;124mWARNING\u001b[39m\u001b[38;5;124m'\u001b[39m \u001b[38;5;129;01min\u001b[39;00m line:\n\u001b[0;32m     10\u001b[0m             warnings\u001b[38;5;241m.\u001b[39mappend(line\u001b[38;5;241m.\u001b[39mstrip())\n\u001b[1;32m---> 11\u001b[0m \u001b[38;5;28;01mreturn\u001b[39;00m errors, \u001b[43mwarning\u001b[49m\n",
      "\u001b[1;31mNameError\u001b[0m: name 'warning' is not defined"
     ]
    }
   ],
   "source": [
    "# Define functions to analyze log file\n",
    "def analyze_log_file(log_file):\n",
    "    errors = []\n",
    "    warnings = []\n",
    "    with open(log_file, 'r') as file:\n",
    "        for line in file:\n",
    "            if 'ERROR' in line:\n",
    "                errors.append(line.strip())\n",
    "            elif 'WARNING' in line:\n",
    "                warnings.append(line.strip())\n",
    "    return errors, warning\n",
    "\n",
    "\n",
    "# Analyze the log file\n",
    "log_file = 'system_logs.txt'\n",
    "errors_found, warnings_found = analyze_log_file(log_file)\n",
    "\n",
    "# Print the results\n",
    "print('Errors found:')\n",
    "for error in errors_found:\n",
    "    print(error)\n",
    "\n",
    "print('\\nWarnings found:')\n",
    "for warning in warnings_found:\n",
    "    print(warning)"
   ]
  },
  {
   "cell_type": "code",
   "execution_count": 3,
   "id": "39917855-cba0-44f2-a9dd-7cd21a125e68",
   "metadata": {},
   "outputs": [
    {
     "name": "stdout",
     "output_type": "stream",
     "text": [
      "Generated 100 log entries and saved them in 'system_logs.txt'.\n"
     ]
    }
   ],
   "source": [
    "from datetime import datetime, timedelta\n",
    "import random\n",
    "\n",
    "# Function to generate random timestamps\n",
    "def generate_random_timestamp():\n",
    "    start_date = datetime(2024, 1, 1)  # Start date for generating random timestamps\n",
    "    end_date = datetime.now()  # End date as current date and time\n",
    "    random_date = start_date + (end_date - start_date) * random.random()  # Random date within the range\n",
    "    return random_date\n",
    "\n",
    "# Function to generate random log description\n",
    "def generate_random_description():\n",
    "    descriptions = [\n",
    "        \"Error occurred during processing.\",\n",
    "        \"Warning: Resource usage exceeded threshold.\",\n",
    "        \"Success: Operation completed successfully.\",\n",
    "        \"Attempted login with incorrect credentials.\",\n",
    "        \"System update: New version installed.\",\n",
    "        \"Normal system operation.\",\n",
    "        \"Data backup completed.\"\n",
    "    ]\n",
    "    return random.choice(descriptions)\n",
    "\n",
    "# Generate 100 log entries\n",
    "log_entries = []\n",
    "for _ in range(100):\n",
    "    timestamp = generate_random_timestamp()\n",
    "    description = generate_random_description()\n",
    "    log_entry = f\"{timestamp.date()}, {timestamp.time()}, {description}\"\n",
    "    log_entries.append(log_entry)\n",
    "\n",
    "# Store log entries in a text file\n",
    "file_name = \"system_logs.txt\"\n",
    "with open(file_name, 'a') as file:\n",
    "    file.write(\"\\n\".join(log_entries))\n",
    "\n",
    "print(f\"Generated 100 log entries and saved them in '{file_name}'.\")"
   ]
  },
  {
   "cell_type": "code",
   "execution_count": null,
   "id": "284c11cc-b01b-4fbb-a17c-baadd2b096a6",
   "metadata": {},
   "outputs": [],
   "source": []
  }
 ],
 "metadata": {
  "kernelspec": {
   "display_name": "Python 3 (ipykernel)",
   "language": "python",
   "name": "python3"
  },
  "language_info": {
   "codemirror_mode": {
    "name": "ipython",
    "version": 3
   },
   "file_extension": ".py",
   "mimetype": "text/x-python",
   "name": "python",
   "nbconvert_exporter": "python",
   "pygments_lexer": "ipython3",
   "version": "3.12.3"
  }
 },
 "nbformat": 4,
 "nbformat_minor": 5
}
