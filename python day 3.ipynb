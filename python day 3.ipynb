{
 "cells": [
  {
   "cell_type": "code",
   "execution_count": 5,
   "id": "20e7fc0c-5450-48fd-a887-a295c6c21ecc",
   "metadata": {},
   "outputs": [
    {
     "name": "stdout",
     "output_type": "stream",
     "text": [
      "[1, 2, 3, 4, 5.7, 6, 7]\n",
      "<class 'int'>\n",
      "<class 'int'>\n"
     ]
    }
   ],
   "source": [
    "#LIST\n",
    "\n",
    "a=[1,2,3,4,5.7,6,7]\n",
    "\n",
    "print(a)\n",
    "print(type(4))\n",
    "print(type(5))"
   ]
  },
  {
   "cell_type": "code",
   "execution_count": 2,
   "id": "fd472244-6fae-40ba-8d0c-a90a9f45bfe5",
   "metadata": {},
   "outputs": [
    {
     "name": "stdout",
     "output_type": "stream",
     "text": [
      "1\n",
      "2\n",
      "3\n",
      "4\n",
      "5\n"
     ]
    }
   ],
   "source": [
    "\n",
    "y=[1,2,3,4,5]\n",
    "for a in range (0,5):\n",
    "    print(y[a])"
   ]
  },
  {
   "cell_type": "code",
   "execution_count": null,
   "id": "6240abdd-3374-48a6-b418-ae118b306bc7",
   "metadata": {},
   "outputs": [],
   "source": [
    "pop to pull out element of the list/remove and return item at index/raises indexerror if list is empty or index is out of range \n",
    "sort use to sort the list\n",
    "copy is used to copy the list\n",
    "append  the  end of the object\n",
    "extend list by appending elements from the iterable.\n",
    "index=return first of value /raises value \n",
    "count=return number of occurence of value\n",
    "insert object before index\n",
    "remove=remove first occurence of value\n",
    "sort=sort the elements in ascending order and return the value\n",
    "*len(List)=name of the list"
   ]
  },
  {
   "cell_type": "code",
   "execution_count": 2,
   "id": "0e14cbfb-92f2-4d80-8ccc-bfbea0a3e3d1",
   "metadata": {},
   "outputs": [
    {
     "name": "stdout",
     "output_type": "stream",
     "text": [
      "[1, 2, 3, 4]\n",
      "4\n",
      "[1, 2, 3]\n",
      "[1, 2, 3, 10]\n",
      "2\n",
      "1\n",
      "[1, 2, 3, 10, 9]\n",
      "[1, 3, 10, 9]\n",
      "[1, 3, 9, 10]\n",
      "[10, 9, 3, 1]\n",
      "4\n",
      "[10, 9, 3, 1, 1, 2, 3, 4]\n",
      "[10, 9, 3, 1, 1, 2, 3, 4, 1, 2, 3, 4]\n"
     ]
    }
   ],
   "source": [
    "a=[1,2,3,4]\n",
    "b=a.copy()\n",
    "print(a)\n",
    "\n",
    "c=b.pop(3)\n",
    "print(c)\n",
    "\n",
    "print(b)\n",
    "b.append(10)\n",
    "print(b)\n",
    "\n",
    "print(b.index(3))\n",
    "\n",
    "print(b.count(3))\n",
    "b.insert(5,9)\n",
    "print(b)\n",
    "b.remove(2)\n",
    "print(b)\n",
    "b.sort()\n",
    "print(b)\n",
    "b.sort(reverse=True)\n",
    "print(b)\n",
    "\n",
    "print(len(b))\n",
    "\n",
    "b.extend(a)\n",
    "print(b)\n",
    "print(b+a)"
   ]
  },
  {
   "cell_type": "code",
   "execution_count": 6,
   "id": "277b7e73-5e2b-4c5f-83e7-4b5601c72f33",
   "metadata": {},
   "outputs": [
    {
     "name": "stdout",
     "output_type": "stream",
     "text": [
      "10\n",
      "9\n",
      "4\n",
      "4\n",
      "3\n",
      "3\n",
      "3\n",
      "2\n",
      "2\n",
      "1\n",
      "1\n",
      "1\n"
     ]
    }
   ],
   "source": [
    "a=[10, 9, 3, 1, 1, 2, 3, 4, 1, 2, 3, 4]\n",
    "a.sort(reverse=True)\n",
    "for x in a:#for each loop\n",
    "    print(x)\n",
    "\n",
    "a.sort(reverse=True)"
   ]
  },
  {
   "cell_type": "code",
   "execution_count": 15,
   "id": "2c400b7b-f04a-425c-b820-f276bce613e9",
   "metadata": {},
   "outputs": [
    {
     "name": "stdin",
     "output_type": "stream",
     "text": [
      "enter the size of list 5\n",
      " 6\n",
      " 8\n",
      " 8\n",
      " 7\n",
      " 8\n"
     ]
    },
    {
     "name": "stdout",
     "output_type": "stream",
     "text": [
      "['6', '8', '8', '7', '8']\n"
     ]
    }
   ],
   "source": [
    "n=int(input(\"enter the size of list\"))\n",
    "a=[]\n",
    "for x in range(0,n):\n",
    "    x=input()\n",
    "    a.append(x)\n",
    "print(a)"
   ]
  },
  {
   "cell_type": "code",
   "execution_count": 12,
   "id": "f45fbc6b-ff33-43c4-a62b-cab8eaf1b96b",
   "metadata": {},
   "outputs": [
    {
     "name": "stdin",
     "output_type": "stream",
     "text": [
      "enter the elements of the list:  4\n"
     ]
    },
    {
     "name": "stdout",
     "output_type": "stream",
     "text": [
      "['4']\n"
     ]
    }
   ],
   "source": [
    "L=[item for item in (input(\"enter the elements of the list: \").split())]\n",
    "print(L)"
   ]
  },
  {
   "cell_type": "code",
   "execution_count": 16,
   "id": "191dfba8-422d-42b4-a043-b4747cf93c32",
   "metadata": {},
   "outputs": [
    {
     "name": "stdin",
     "output_type": "stream",
     "text": [
      "enter the elements of the list:  5\n"
     ]
    },
    {
     "name": "stdout",
     "output_type": "stream",
     "text": [
      "[5]\n"
     ]
    }
   ],
   "source": [
    "L=[int(item) for item in (input(\"enter the elements of the list: \").split())]\n",
    "print(L)"
   ]
  },
  {
   "cell_type": "code",
   "execution_count": 24,
   "id": "7b84bbe3-d165-4fd0-8e8c-6770f49fe79c",
   "metadata": {},
   "outputs": [
    {
     "ename": "SyntaxError",
     "evalue": "invalid syntax (1531724063.py, line 1)",
     "output_type": "error",
     "traceback": [
      "\u001b[1;36m  Cell \u001b[1;32mIn[24], line 1\u001b[1;36m\u001b[0m\n\u001b[1;33m    s=list([1,,3,4,4,5,6])\u001b[0m\n\u001b[1;37m              ^\u001b[0m\n\u001b[1;31mSyntaxError\u001b[0m\u001b[1;31m:\u001b[0m invalid syntax\n"
     ]
    }
   ],
   "source": [
    "s=list([1,,3,4,4,5,6])\n",
    "print(s)"
   ]
  },
  {
   "cell_type": "code",
   "execution_count": null,
   "id": "e616d9ac-e8f2-4e70-ba5a-0adcbc7ae199",
   "metadata": {},
   "outputs": [],
   "source": [
    "TUPLES"
   ]
  },
  {
   "cell_type": "code",
   "execution_count": 25,
   "id": "1cd47070-fff2-4581-8818-5619d9e55bac",
   "metadata": {},
   "outputs": [
    {
     "name": "stdout",
     "output_type": "stream",
     "text": [
      "7\n",
      "6\n",
      "5\n",
      "4\n",
      "3\n",
      "2\n",
      "1\n"
     ]
    }
   ],
   "source": [
    "a=(1,2,3,4,5,6,7)  #reversing of list without using any built in fuunction\n",
    "for x in range(-1,-1*(len(a)+1),-1):\n",
    "    print(a[x])"
   ]
  },
  {
   "cell_type": "code",
   "execution_count": 26,
   "id": "e07f822b-946d-42d9-832f-ca3ec3dbd1e5",
   "metadata": {},
   "outputs": [
    {
     "name": "stdout",
     "output_type": "stream",
     "text": [
      "0\n",
      "-8\n",
      "-9\n",
      "-7\n",
      "7\n",
      "6\n",
      "5\n",
      "4\n",
      "3\n",
      "2\n",
      "1\n"
     ]
    }
   ],
   "source": [
    "a=(1,2,3,4,5,6,7,-7,-9,-8,-0)  #reversing of list without using any built in fuunction\n",
    "for x in range(-1,-1*(len(a)+1),-1):\n",
    "    print(a[x])"
   ]
  },
  {
   "cell_type": "code",
   "execution_count": 28,
   "id": "337482c5-db54-4f3e-8488-27f5bcab3bb3",
   "metadata": {},
   "outputs": [
    {
     "name": "stdout",
     "output_type": "stream",
     "text": [
      "1\n",
      "2\n",
      "3\n",
      "4\n",
      "5\n",
      "6\n",
      "7\n",
      "-7\n",
      "-9\n",
      "-8\n",
      "0\n"
     ]
    }
   ],
   "source": [
    "a=(1,2,3,4,5,6,7,-7,-9,-8,-0)  \n",
    "for x in range(-1,-1*(len(a)+1),-1):\n",
    "    print(a[-1*(x+1)])"
   ]
  },
  {
   "cell_type": "markdown",
   "id": "cd368e63-1bfd-4c9c-aa87-68642a137c04",
   "metadata": {},
   "source": [
    "Dictoinary\n",
    "\n",
    "key and values\n",
    "\n",
    "key values pair"
   ]
  },
  {
   "cell_type": "code",
   "execution_count": 5,
   "id": "f7d5f3e3-d7c7-4a8c-9d10-f8d16acbf462",
   "metadata": {},
   "outputs": [
    {
     "name": "stdout",
     "output_type": "stream",
     "text": [
      "{1: 'trupti', 2: 'abcdf', 3: 'trupti'}\n",
      "abcdf\n",
      "dict_keys([1, 2, 3])\n",
      "dict_values(['trupti', 'abcdf', 'trupti'])\n",
      "dict_items([(1, 'trupti'), (2, 'abcdf'), (3, 'trupti')])\n",
      "trupti\n",
      "None\n"
     ]
    }
   ],
   "source": [
    "D={1: \"trupti\" ,2: \"shetty\" ,3:\"trupti\" ,2: \"abcdf\"}\n",
    "print(D)\n",
    "\n",
    "print(D[2])\n",
    "print(D.keys())\n",
    "print(D.values())\n",
    "print(D.items())\n",
    "print(D.get(3))\n",
    "print(D.get(4))"
   ]
  },
  {
   "cell_type": "code",
   "execution_count": null,
   "id": "dfb3fbc7-8db8-441c-af02-8d19c19ba606",
   "metadata": {},
   "outputs": [],
   "source": [
    "copy=copy the dict\n",
    "keys=provide the key value\n",
    "item=will give the item of value"
   ]
  },
  {
   "cell_type": "code",
   "execution_count": null,
   "id": "e9071deb-8023-4eca-8e07-561e72847d0b",
   "metadata": {},
   "outputs": [],
   "source": [
    "#Write a program to take key and  value as input from the user and add it to the dict if key is not present in dict otherwise print key alerdy exist and also print its value \n",
    "\n",
    "key=input(\"enter the keys: \")\n",
    "value=int(input(\"enter the value: \"))     \n",
    "D={1: \"trupti\" ,2: \"shetty\" ,3:\"trupti\" ,2: \"abcdf\"}\n",
    "if D!=key:\n",
    "    print(\"Key is present\")\n",
    "else:\n",
    "    print(\"key is not present\")\n",
    "\n",
    "\n"
   ]
  },
  {
   "cell_type": "code",
   "execution_count": 4,
   "id": "8211fbe5-c7f1-4915-b72d-9a73d69006fb",
   "metadata": {},
   "outputs": [
    {
     "name": "stdin",
     "output_type": "stream",
     "text": [
      " 2\n",
      " 0\n"
     ]
    },
    {
     "name": "stdout",
     "output_type": "stream",
     "text": [
      "we can't divide the number\n",
      "0.5\n",
      "Error Handled\n",
      "we have recived the Result as :  0.5\n"
     ]
    }
   ],
   "source": [
    "A=int(input())\n",
    "B=int(input())\n",
    "try:\n",
    "    c=A/B\n",
    "except:\n",
    "    print(\"we can't divide the number\")\n",
    "    print(c)\n",
    "else:\n",
    "    print(\"Division Sucessfull\")\n",
    "    print(c)\n",
    "finally:\n",
    "    print(\"Error Handled\")\n",
    "\n",
    "print(\"we have recived the Result as : \" , c)\n",
    "\n",
    "\n"
   ]
  },
  {
   "cell_type": "code",
   "execution_count": 11,
   "id": "c363ba4c-b490-4991-82e4-bf7ecb43f14c",
   "metadata": {},
   "outputs": [
    {
     "name": "stdin",
     "output_type": "stream",
     "text": [
      "enter the index number 8\n"
     ]
    },
    {
     "name": "stdout",
     "output_type": "stream",
     "text": [
      "there is no such index\n",
      "error handled\n"
     ]
    }
   ],
   "source": [
    "a=[1,2,3,4,5]\n",
    "i=int(input(\"enter the index number\"))\n",
    "try:\n",
    "    print(a[i])\n",
    "except:\n",
    "    print(\"there is no such index\")\n",
    "finally:\n",
    "    print(\"error handled\")\n",
    "    \n",
    "    "
   ]
  },
  {
   "cell_type": "code",
   "execution_count": 18,
   "id": "0b7308e1-925b-4fcf-8f18-b7268d124026",
   "metadata": {},
   "outputs": [
    {
     "name": "stdin",
     "output_type": "stream",
     "text": [
      " 3\n",
      " 4\n"
     ]
    },
    {
     "name": "stdout",
     "output_type": "stream",
     "text": [
      "Some Unknown Error found\n",
      "Code Execution Done\n"
     ]
    }
   ],
   "source": [
    "try:\n",
    "    a=input()\n",
    "    b=input()\n",
    "    c=int(a)/int(b)\n",
    "    x=\"hello\"/3\n",
    "except ValueError:\n",
    "    print(\"Value unable to convert\")\n",
    "except ZeroDivisionError:\n",
    "    print(\"Can't Divide By Zero\")\n",
    "except :\n",
    "    print(\"Some Unknown Error found\")\n",
    "else:\n",
    "    print(\"No Error\")\n",
    "finally:\n",
    "    print(\"Code Execution Done\")\n",
    "    \n",
    "    "
   ]
  },
  {
   "cell_type": "code",
   "execution_count": 17,
   "id": "70a0617c-3add-4b5f-a799-398cb4b07809",
   "metadata": {},
   "outputs": [],
   "source": [
    "#to find the sum of all the elements in the list and handled the case if  of non numeric value "
   ]
  },
  {
   "cell_type": "code",
   "execution_count": 4,
   "id": "f048daf5-c9ab-4c4f-8fec-7d3b24efb0d0",
   "metadata": {},
   "outputs": [
    {
     "name": "stdin",
     "output_type": "stream",
     "text": [
      "enter the  value 4\n"
     ]
    },
    {
     "ename": "AttributeError",
     "evalue": "'int' object has no attribute 'sum'",
     "output_type": "error",
     "traceback": [
      "\u001b[1;31m---------------------------------------------------------------------------\u001b[0m",
      "\u001b[1;31mAttributeError\u001b[0m                            Traceback (most recent call last)",
      "Cell \u001b[1;32mIn[4], line 3\u001b[0m\n\u001b[0;32m      1\u001b[0m x\u001b[38;5;241m=\u001b[39m[\u001b[38;5;241m2\u001b[39m,\u001b[38;5;241m5\u001b[39m,\u001b[38;5;241m7\u001b[39m,\u001b[38;5;241m8\u001b[39m]\n\u001b[0;32m      2\u001b[0m a\u001b[38;5;241m=\u001b[39m\u001b[38;5;28mint\u001b[39m(\u001b[38;5;28minput\u001b[39m(\u001b[38;5;124m\"\u001b[39m\u001b[38;5;124menter the  value\u001b[39m\u001b[38;5;124m\"\u001b[39m))\n\u001b[1;32m----> 3\u001b[0m \u001b[43ma\u001b[49m\u001b[38;5;241;43m.\u001b[39;49m\u001b[43msum\u001b[49m()\n\u001b[0;32m      4\u001b[0m \u001b[38;5;28mprint\u001b[39m(a)\n\u001b[0;32m      6\u001b[0m \u001b[38;5;28;01mfor\u001b[39;00m a \u001b[38;5;129;01min\u001b[39;00m \u001b[38;5;28mrange\u001b[39m(\u001b[38;5;241m0\u001b[39m,x\u001b[38;5;241m+\u001b[39m\u001b[38;5;241m1\u001b[39m):\n",
      "\u001b[1;31mAttributeError\u001b[0m: 'int' object has no attribute 'sum'"
     ]
    }
   ],
   "source": [
    "x=[2,5,7,8]\n",
    "a=int(input(\"enter the  value\"))\n",
    "a.sum()\n",
    "print(a)\n",
    "\n",
    "for a in range(0,x+1):\n",
    "    print(\"numeric value\")\n",
    "else:\n",
    "    print(\"non numeric value\")"
   ]
  },
  {
   "cell_type": "code",
   "execution_count": 16,
   "id": "f404ebd3-e457-4644-b94e-122de470e518",
   "metadata": {},
   "outputs": [
    {
     "name": "stdout",
     "output_type": "stream",
     "text": [
      "[2, 5, 7, 8, 'trupti']\n",
      "not a numeric\n",
      "sum:  22\n"
     ]
    }
   ],
   "source": [
    "x=[2,5,7,8,\"trupti\"]\n",
    "print(x)\n",
    "sum=0\n",
    "try:\n",
    "    for i in x:\n",
    "        sum+=int(i)\n",
    "except ValueError:\n",
    "    print(\"not a numeric\")\n",
    "print(\"sum: \",sum)\n",
    "    \n",
    "    "
   ]
  },
  {
   "cell_type": "code",
   "execution_count": 19,
   "id": "2c02cf21-3336-48b1-b5af-43c39ddd20a3",
   "metadata": {},
   "outputs": [
    {
     "name": "stdin",
     "output_type": "stream",
     "text": [
      "Enter the number of students:  2\n",
      "Enter student name:  trupti\n",
      "Enter student grade:  6.95\n",
      "Enter student name:  pratik\n",
      "Enter student grade:  7.35\n"
     ]
    },
    {
     "name": "stdout",
     "output_type": "stream",
     "text": [
      "Average grade: 7.15\n"
     ]
    }
   ],
   "source": [
    "\n",
    "# Create an empty dictionary\n",
    "grades_dict = {}\n",
    "\n",
    "# Get the number of students\n",
    "num_students = int(input(\"Enter the number of students: \"))\n",
    "\n",
    "# Populate the dictionary with student names and grades\n",
    "for _ in range(num_students):\n",
    "    name = input(\"Enter student name: \")\n",
    "    grade = float(input(\"Enter student grade: \"))\n",
    "    grades_dict[name] = grade\n",
    "\n",
    "# Calculate the average grade\n",
    "total_grade = 0\n",
    "count = 0\n",
    "for grade in grades_dict.values():\n",
    "    total_grade += grade\n",
    "    count += 1\n",
    "\n",
    "if count > 0:\n",
    "    average_grade = total_grade / count\n",
    "    print(\"Average grade:\", average_grade)\n",
    "else:\n",
    "    print(\"Dictionary is empty!\")\n"
   ]
  },
  {
   "cell_type": "code",
   "execution_count": null,
   "id": "10ee6a14-66c9-44fd-a6a0-05d26f2c7b20",
   "metadata": {},
   "outputs": [],
   "source": []
  }
 ],
 "metadata": {
  "kernelspec": {
   "display_name": "Python 3 (ipykernel)",
   "language": "python",
   "name": "python3"
  },
  "language_info": {
   "codemirror_mode": {
    "name": "ipython",
    "version": 3
   },
   "file_extension": ".py",
   "mimetype": "text/x-python",
   "name": "python",
   "nbconvert_exporter": "python",
   "pygments_lexer": "ipython3",
   "version": "3.12.3"
  }
 },
 "nbformat": 4,
 "nbformat_minor": 5
}
