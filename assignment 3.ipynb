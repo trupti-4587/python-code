{
 "cells": [
  {
   "cell_type": "code",
   "execution_count": 19,
   "id": "beea8ce7-530a-4b61-9888-8286e6809845",
   "metadata": {},
   "outputs": [
    {
     "name": "stdin",
     "output_type": "stream",
     "text": [
      "enter the temperature in  celsius:  89\n"
     ]
    },
    {
     "name": "stdout",
     "output_type": "stream",
     "text": [
      "temperature in fahrenheit: 192.2\n"
     ]
    }
   ],
   "source": [
    "#convert a temperature from celsius to fahrenheit\n",
    "a=int(input(\"enter the temperature in  celsius: \"))\n",
    "fahrenheit = (a*9/5) + 32\n",
    "print(\"temperature in fahrenheit:\",fahrenheit)\n",
    "   \n"
   ]
  },
  {
   "cell_type": "code",
   "execution_count": 25,
   "id": "655a871b-b14e-46f4-baeb-1304d8b90c41",
   "metadata": {},
   "outputs": [
    {
     "name": "stdout",
     "output_type": "stream",
     "text": [
      "the second largest element of the list is: 6\n"
     ]
    }
   ],
   "source": [
    "#find the second largest element in a list\n",
    "\n",
    "a=[4,8,7,6,3]\n",
    "print(\"the second largest element of the list is:\",a[-2])\n"
   ]
  },
  {
   "cell_type": "code",
   "execution_count": 26,
   "id": "6124bd4b-b417-4255-bdc6-f7335cae8e11",
   "metadata": {},
   "outputs": [
    {
     "name": "stdout",
     "output_type": "stream",
     "text": [
      "the second largest element of the list is: 89\n"
     ]
    }
   ],
   "source": [
    "a=[10,56,78,89,45]\n",
    "print(\"the second largest element of the list is:\",a[-2])"
   ]
  },
  {
   "cell_type": "code",
   "execution_count": 46,
   "id": "d0dbfa42-900c-4ae7-aac2-78d64c38bc33",
   "metadata": {},
   "outputs": [
    {
     "name": "stdin",
     "output_type": "stream",
     "text": [
      "enter the occurences: 8\n"
     ]
    },
    {
     "name": "stdout",
     "output_type": "stream",
     "text": [
      "the number does not occur\n"
     ]
    }
   ],
   "source": [
    "#count the occurences of each element in a list\n",
    "\n",
    "a=[2,3,4,5,3,3]\n",
    "x=int(input(\"enter the occurences:\"))\n",
    "count=0\n",
    "for i in a:\n",
    "    if i==x:\n",
    "      count+=1\n",
    "      \n",
    "if count>0:\n",
    "    print(\"the number occurrance=\",count)\n",
    "else:\n",
    "    print(\"the number does not occur\")"
   ]
  },
  {
   "cell_type": "code",
   "execution_count": 7,
   "id": "4adcc07c-5d34-4d9b-bc47-431844ad7bc9",
   "metadata": {},
   "outputs": [
    {
     "name": "stdout",
     "output_type": "stream",
     "text": [
      "sum of  even number= 20\n"
     ]
    }
   ],
   "source": [
    "#find the sum of all even numbers in a list\n",
    "\n",
    "a=[2,3,4,5,6,7,8,9]\n",
    "sum=0\n",
    "for i in a:\n",
    "    if i%2==0:\n",
    "        sum+=i\n",
    "print(\"sum of  even number=\",sum)\n"
   ]
  },
  {
   "cell_type": "code",
   "execution_count": 10,
   "id": "f0cecb92-7721-4ce1-b12c-18e323f2aa6a",
   "metadata": {},
   "outputs": [
    {
     "name": "stdin",
     "output_type": "stream",
     "text": [
      "Enter string: Trupti\n"
     ]
    },
    {
     "name": "stdout",
     "output_type": "stream",
     "text": [
      "Number of vowels are:\n",
      "2\n"
     ]
    }
   ],
   "source": [
    "#count the numbers of vowels in a string\n",
    "\n",
    "string=input(\"Enter string:\")\n",
    "vowels=0\n",
    "for i in string:\n",
    "      if(i=='a' or i=='e' or i=='i' or i=='o' or i=='u' or i=='A' or i=='E' or i=='I' or i=='O' or i=='U'):\n",
    "            vowels=vowels+1\n",
    "print(\"Number of vowels are:\")\n",
    "print(vowels)"
   ]
  },
  {
   "cell_type": "code",
   "execution_count": null,
   "id": "68e7fb55-f784-4957-a0d4-4f195186d6b2",
   "metadata": {},
   "outputs": [],
   "source": [
    "#reverse the words in a given sentence\n",
    "string = \"to a good day\"\n",
    "s = string.split()[::-1]\n",
    "\n",
    "l = []\n",
    "\n",
    "for i in s:\n",
    "    \n",
    "l.append(i)\n",
    "# printing reverse words\n",
    "\n",
    "print(\" \".join(l))"
   ]
  }
 ],
 "metadata": {
  "kernelspec": {
   "display_name": "Python 3 (ipykernel)",
   "language": "python",
   "name": "python3"
  },
  "language_info": {
   "codemirror_mode": {
    "name": "ipython",
    "version": 3
   },
   "file_extension": ".py",
   "mimetype": "text/x-python",
   "name": "python",
   "nbconvert_exporter": "python",
   "pygments_lexer": "ipython3",
   "version": "3.12.3"
  }
 },
 "nbformat": 4,
 "nbformat_minor": 5
}
