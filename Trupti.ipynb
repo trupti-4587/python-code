{
 "cells": [
  {
   "cell_type": "code",
   "execution_count": 2,
   "id": "a3a6563c-711c-4ae3-8ac6-0fee6cc0dcf5",
   "metadata": {},
   "outputs": [
    {
     "name": "stdin",
     "output_type": "stream",
     "text": [
      " 4\n",
      " 7\n"
     ]
    },
    {
     "name": "stdout",
     "output_type": "stream",
     "text": [
      "1.addition\n",
      "2.subtraction\u0003.multiplication\u0004.division\u0005.modulus\u0006.power\n",
      "\n"
     ]
    },
    {
     "name": "stdin",
     "output_type": "stream",
     "text": [
      "enter your choice:  1\n"
     ]
    },
    {
     "name": "stdout",
     "output_type": "stream",
     "text": [
      "11\n"
     ]
    }
   ],
   "source": [
    "#menue driven code to perform basic mathmatics operation like '+','-','*','/','%'\n",
    "\n",
    "a=int(input())\n",
    "b=int(input())\n",
    "print(\"1.addition\\n2.subtraction\\3.multiplication\\4.division\\5.modulus\\6.power\\n\")\n",
    "c=int(input(\"enter your choice: \"))\n",
    "match c:\n",
    "      case 1: print(a+b)\n",
    "      case 2: print(a-b)\n",
    "      case 3: print(a*b)\n",
    "      case 4: print(a/b)\n",
    "      case 5: print(a%b)\n",
    "      case 6: print(a**b)\n",
    "      case _ :print(\"invalid number\")    \n",
    "              "
   ]
  },
  {
   "cell_type": "code",
   "execution_count": 4,
   "id": "a126cc75-103e-4bcd-b4f3-5f5d7a7aa21e",
   "metadata": {},
   "outputs": [
    {
     "name": "stdin",
     "output_type": "stream",
     "text": [
      "enter a character:  TR\n"
     ]
    },
    {
     "name": "stdout",
     "output_type": "stream",
     "text": [
      "upper case\n"
     ]
    }
   ],
   "source": [
    "#upper case and lower case\n",
    "\n",
    "a=input(\"enter a character: \")\n",
    "\n",
    "if a==a.lower():\n",
    "    print(\"lower case\")\n",
    "elif a==a.upper():\n",
    "    print(\"upper case\")"
   ]
  },
  {
   "cell_type": "code",
   "execution_count": 5,
   "id": "17f452c3-8b50-4d19-be3b-61efb3d87a31",
   "metadata": {},
   "outputs": [
    {
     "name": "stdout",
     "output_type": "stream",
     "text": [
      "civic is Palindrome\n"
     ]
    }
   ],
   "source": [
    "#palindrome\n",
    "\n",
    "input_string = 'civic'\n",
    "rev = input_string[::-1]\n",
    "\n",
    "if input_string == rev:\n",
    "    print(rev + \" is Palindrome\")\n",
    "else:\n",
    "    print(rev + \" is not Palindrome\")"
   ]
  },
  {
   "cell_type": "code",
   "execution_count": 6,
   "id": "d3a5f9ee-37a2-4cd7-af77-dc634d94acf6",
   "metadata": {},
   "outputs": [
    {
     "name": "stdout",
     "output_type": "stream",
     "text": [
      "54321\n"
     ]
    }
   ],
   "source": [
    "#reverse of a didgit\n",
    "\n",
    "def reverse_digit(arr, l):\n",
    "    for i in range(l):\n",
    "        arr[i], arr[-1 * (i + 1)] = arr[-1 * (i + 1)], arr[i]\n",
    "    return arr\n",
    "\n",
    "\n",
    "num = 12345\n",
    "arr = list(str(num))\n",
    "arr = reverse_digit(arr, len(arr)//2)\n",
    "s = \"\"\n",
    "print(int(s.join(arr)))"
   ]
  },
  {
   "cell_type": "code",
   "execution_count": 7,
   "id": "3b5e1267-7c5b-41be-8cde-edc07e6543d0",
   "metadata": {},
   "outputs": [
    {
     "name": "stdout",
     "output_type": "stream",
     "text": [
      "Not Prime\n"
     ]
    }
   ],
   "source": [
    "#prime number or not prime\n",
    "\n",
    "num = 15\n",
    "flag = 0\n",
    "for i in range(2,num):\n",
    "  if num%i==0:\n",
    "    flag = 1\n",
    "    break\n",
    "if flag == 1:\n",
    "  print('Not Prime')\n",
    "else:\n",
    "  print(\"Prime\")"
   ]
  },
  {
   "cell_type": "code",
   "execution_count": 8,
   "id": "ea74582d-f137-44af-b014-929e193692b7",
   "metadata": {},
   "outputs": [
    {
     "name": "stdout",
     "output_type": "stream",
     "text": [
      "Factorial of 6 is 720\n"
     ]
    }
   ],
   "source": [
    "#factorial of number\n",
    "\n",
    "num = 6\n",
    "fact = 1\n",
    "if num < 0:\n",
    "    print(\"Not Possible\")\n",
    "else:\n",
    "    for i in range(1, num+1):\n",
    "        fact = fact * i\n",
    "\n",
    "print(\"Factorial of\", num, \"is\", fact)\n"
   ]
  },
  {
   "cell_type": "code",
   "execution_count": null,
   "id": "2fbb4258-e448-4a6c-90aa-048a0bdf563e",
   "metadata": {},
   "outputs": [],
   "source": []
  }
 ],
 "metadata": {
  "kernelspec": {
   "display_name": "Python 3 (ipykernel)",
   "language": "python",
   "name": "python3"
  },
  "language_info": {
   "codemirror_mode": {
    "name": "ipython",
    "version": 3
   },
   "file_extension": ".py",
   "mimetype": "text/x-python",
   "name": "python",
   "nbconvert_exporter": "python",
   "pygments_lexer": "ipython3",
   "version": "3.12.3"
  }
 },
 "nbformat": 4,
 "nbformat_minor": 5
}
