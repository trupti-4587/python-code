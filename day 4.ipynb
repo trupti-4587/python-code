{
 "cells": [
  {
   "cell_type": "code",
   "execution_count": null,
   "id": "116cd147-8b85-4ca0-a53a-23303ec2ac11",
   "metadata": {},
   "outputs": [],
   "source": [
    "FILES\n",
    "create\n",
    "write\n",
    "append\n",
    "\n",
    "read \n",
    "write\n"
   ]
  },
  {
   "cell_type": "code",
   "execution_count": null,
   "id": "f83e02e5-fd42-46c2-a25c-aa756c3a9f23",
   "metadata": {},
   "outputs": [],
   "source": [
    "if__name__'__main__':\n",
    "    filename = \"example.txt\"\n",
    "    new_filename = \"new_example.txt\"\n",
    "\n",
    "    create_file(filename)\n",
    "    read_file(filename)\n",
    "    append_file(filename)\n",
    "    rename_file(filename)\n",
    "              "
   ]
  },
  {
   "cell_type": "code",
   "execution_count": 36,
   "id": "66008f6f-9ba6-470c-a99a-cab889928445",
   "metadata": {},
   "outputs": [],
   "source": [
    "import os\n",
    "\n",
    "with open(\"file.txt\",'a') as f:\n",
    "     f.write(\"this is first text in file\\n\")\n",
    "     f.close()\n",
    "\n",
    "\n",
    "with open(\"file2.txt\",'w') as f:\n",
    "     f.write(\"this is  text in file\\n\")\n",
    "     f.close()\n"
   ]
  },
  {
   "cell_type": "markdown",
   "id": "ccaa20c6-34bd-458f-bafe-2965da82c389",
   "metadata": {},
   "source": [
    "import os\n",
    "\n",
    "os.remove(\"file1.txt\")"
   ]
  },
  {
   "cell_type": "code",
   "execution_count": 32,
   "id": "ab6e9f67-5d50-4f30-ac65-c7a8921cb075",
   "metadata": {},
   "outputs": [
    {
     "name": "stdout",
     "output_type": "stream",
     "text": [
      "this is  text in filethis is first text in filethis is first text in file\n",
      "111\n"
     ]
    }
   ],
   "source": [
    "import os\n",
    "\n",
    "with open(\"file.txt\" ,'r') as f:\n",
    "    for a in f.read().split(\"\\n\"):\n",
    "        print(a)\n",
    "        print(\"111\")\n",
    "\n",
    "    f.close()"
   ]
  },
  {
   "cell_type": "code",
   "execution_count": null,
   "id": "fa653058-d9fe-468a-95ea-fd0b29dd7d13",
   "metadata": {},
   "outputs": [],
   "source": [
    "#w=write\n",
    "#r=read\n",
    "#a=append\n",
    "#r+=read and write\n",
    "#w+=write and read\n",
    "#a+=append and read"
   ]
  },
  {
   "cell_type": "code",
   "execution_count": 1,
   "id": "465796b7-f880-4df2-acc7-5373da80e80e",
   "metadata": {},
   "outputs": [
    {
     "name": "stdin",
     "output_type": "stream",
     "text": [
      "enter the fruit names:   apple banana grapes mango\n"
     ]
    },
    {
     "ename": "NameError",
     "evalue": "name 'F' is not defined",
     "output_type": "error",
     "traceback": [
      "\u001b[1;31m---------------------------------------------------------------------------\u001b[0m",
      "\u001b[1;31mNameError\u001b[0m                                 Traceback (most recent call last)",
      "Cell \u001b[1;32mIn[1], line 10\u001b[0m\n\u001b[0;32m      6\u001b[0m              f\u001b[38;5;241m.\u001b[39mwrite(fruit \u001b[38;5;241m+\u001b[39m\u001b[38;5;124m\"\u001b[39m\u001b[38;5;130;01m\\n\u001b[39;00m\u001b[38;5;124m\"\u001b[39m)\n\u001b[0;32m      9\u001b[0m \u001b[38;5;28;01mwith\u001b[39;00m \u001b[38;5;28mopen\u001b[39m(\u001b[38;5;124m\"\u001b[39m\u001b[38;5;124mfruit.txt\u001b[39m\u001b[38;5;124m\"\u001b[39m,\u001b[38;5;124m\"\u001b[39m\u001b[38;5;124mr+\u001b[39m\u001b[38;5;124m\"\u001b[39m) \u001b[38;5;28;01mas\u001b[39;00m f:\n\u001b[1;32m---> 10\u001b[0m       \u001b[43mF\u001b[49m\u001b[38;5;241m.\u001b[39mwrite(x)\n\u001b[0;32m     11\u001b[0m       F\u001b[38;5;241m.\u001b[39mclose()\n",
      "\u001b[1;31mNameError\u001b[0m: name 'F' is not defined"
     ]
    }
   ],
   "source": [
    "import os\n",
    "with open(\"fruit.txt\",\"w\") as f:\n",
    "    fruits=input(\"enter the fruit names:  \").split()\n",
    "             \n",
    "    for fruit in fruits:\n",
    "             f.write(fruit +\"\\n\")\n",
    "\n",
    "\n",
    "\n",
    "\n",
    "    \n",
    "\n",
    "      \n",
    "            \n"
   ]
  },
  {
   "cell_type": "code",
   "execution_count": 5,
   "id": "5a928a34-8432-4f05-9ef9-742262a755c6",
   "metadata": {},
   "outputs": [
    {
     "ename": "IndentationError",
     "evalue": "unexpected indent (3588693038.py, line 5)",
     "output_type": "error",
     "traceback": [
      "\u001b[1;36m  Cell \u001b[1;32mIn[5], line 5\u001b[1;36m\u001b[0m\n\u001b[1;33m    f.rename(banana with watermelon)\u001b[0m\n\u001b[1;37m    ^\u001b[0m\n\u001b[1;31mIndentationError\u001b[0m\u001b[1;31m:\u001b[0m unexpected indent\n"
     ]
    }
   ],
   "source": [
    "import os\n",
    "with open(\"fruit.txt\",\"r+\") as f:\n",
    "     \n",
    "         f.rename(banana with watermelon)"
   ]
  },
  {
   "cell_type": "code",
   "execution_count": 2,
   "id": "447e3778-943c-4b6d-8f0b-18667a1a6cad",
   "metadata": {},
   "outputs": [
    {
     "name": "stdout",
     "output_type": "stream",
     "text": [
      "apple\n",
      "banana\n",
      "grapes\n",
      "mango\n",
      "\n"
     ]
    },
    {
     "name": "stdin",
     "output_type": "stream",
     "text": [
      "enter the name you want to replace:  apple\n",
      "enter the new item:  cherry\n"
     ]
    }
   ],
   "source": [
    "import os\n",
    "with open(\"fruit.txt\",\"r\") as f:\n",
    "    x=f.read()\n",
    "    print(x)\n",
    "    a=input(\"enter the name you want to replace: \")\n",
    "    b=input(\"enter the new item: \")\n",
    "    x=x.replace(a,b)\n",
    "    f.close()\n",
    "with open(\"fruit.txt\",\"r+\") as f:\n",
    "      f.write(x)\n",
    "      f.close()\n",
    "    \n",
    "    "
   ]
  },
  {
   "cell_type": "code",
   "execution_count": null,
   "id": "791db4bb-596d-4cd2-99e5-26e700dddb05",
   "metadata": {},
   "outputs": [],
   "source": [
    "import os\n",
    "with open(\"fruit.txt1\",\"a\") as f:\n",
    "    fruits=input(\"enter the fruit names:  \").split()\n",
    "             \n",
    "    for fruit in fruits:\n",
    "             f.write(fruit +\"\\n\")\n"
   ]
  },
  {
   "cell_type": "code",
   "execution_count": null,
   "id": "f30cc864-a305-42e6-8647-e309e5eb505e",
   "metadata": {},
   "outputs": [],
   "source": []
  }
 ],
 "metadata": {
  "kernelspec": {
   "display_name": "Python 3 (ipykernel)",
   "language": "python",
   "name": "python3"
  },
  "language_info": {
   "codemirror_mode": {
    "name": "ipython",
    "version": 3
   },
   "file_extension": ".py",
   "mimetype": "text/x-python",
   "name": "python",
   "nbconvert_exporter": "python",
   "pygments_lexer": "ipython3",
   "version": "3.12.3"
  }
 },
 "nbformat": 4,
 "nbformat_minor": 5
}
