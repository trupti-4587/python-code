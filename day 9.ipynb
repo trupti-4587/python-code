{
 "cells": [
  {
   "cell_type": "code",
   "execution_count": null,
   "id": "a01620c9-a6a2-400a-ba13-dbfd4c894e47",
   "metadata": {},
   "outputs": [],
   "source": [
    "#time complexity=based on number of iterations caluclate\n",
    "\n",
    "Theta Notation-average case\n",
    "Omega Notation-best and worst case\n",
    "Big-O Notation-normal case\n",
    "\n",
    "Types of time complexities\n",
    "\n",
    "1:constant-O(1)\n",
    "2:linear-O(n)\n",
    "3:quardartic-O(n square)=any nested loop\n",
    "4:exponential-O(n power m)=worst time complixties\n",
    "5:factorial-O(n!)=biggest time complexities\n",
    "\n",
    "Optimal Solution=solution which reduces from best case to worst case\n",
    "\n",
    "\n",
    "#Space Complexities:same as time \n",
    "have linear and constant space\n",
    "constant space :we should not create any extra space\n",
    "linear space:we can create a extra space by copying"
   ]
  },
  {
   "cell_type": "code",
   "execution_count": null,
   "id": "8b655a8e-26c5-425a-9505-00d15933d7f3",
   "metadata": {},
   "outputs": [],
   "source": [
    "#leet code prob 41\n",
    "class Solution:\n",
    "    def firstMissingPositive(self,nums: List[int]) ->int:\n",
    "        var = 1\n",
    "        nums.sort()\n",
    "        for i in nums:\n",
    "            for j in nums:\n",
    "                if i==var:\n",
    "                    var=var+1\n",
    "             return var       \n"
   ]
  },
  {
   "cell_type": "code",
   "execution_count": 2,
   "id": "88ebd01e-14b8-4866-87e4-063681303e7b",
   "metadata": {},
   "outputs": [
    {
     "name": "stdout",
     "output_type": "stream",
     "text": [
      "19\n"
     ]
    }
   ],
   "source": [
    "L=[2,4,6,1,3,7,4,6,9,3,6,8,3,6,4,1,3,9,6,4,5,6,8,3,7,3,6,8]\n",
    "\n",
    "#find the maximum sum of any three consecutive elememts of this array.\n",
    "max = 0\n",
    "for x in range(0,len(L)-2):\n",
    "    sum = L[x]+L[x+1]+L[x+2]\n",
    "    if(max<sum):\n",
    "        max=sum\n",
    "\n",
    "print(max)\n",
    "\n",
    "\n"
   ]
  },
  {
   "cell_type": "code",
   "execution_count": 10,
   "id": "2bccdf46-1a42-4dd3-a182-95297cd59b1c",
   "metadata": {},
   "outputs": [
    {
     "name": "stdout",
     "output_type": "stream",
     "text": [
      "2\n"
     ]
    }
   ],
   "source": [
    "L=[2,4,6,1,3,7,4,6,9,3,6,8,3,6,4,1,3,9,6,4,5,6,8,3,7,3,6,8]\n",
    "\n",
    "min = 0\n",
    "for x in range(0,len(L)-2):\n",
    "    sum = L[x]-L[x+1]-L[x+2]\n",
    "    if(min<sum):\n",
    "        min=sum\n",
    "\n",
    "print(min)\n"
   ]
  },
  {
   "cell_type": "code",
   "execution_count": 5,
   "id": "7909a98f-fa30-4622-b066-481686d78df0",
   "metadata": {},
   "outputs": [
    {
     "ename": "SyntaxError",
     "evalue": "invalid syntax (3409017179.py, line 1)",
     "output_type": "error",
     "traceback": [
      "\u001b[1;36m  Cell \u001b[1;32mIn[5], line 1\u001b[1;36m\u001b[0m\n\u001b[1;33m    l=[2,4,6,1,3,7,4,6,,3,6,,8,3,6,4,1,3,9,6,4,5,6,8,3,7,3,6,8,2,4,6,1,3,7,4,6,3,6,8,3,6,4,1,3,9,6,4,5,6,5.8,6,9,2,4,6,1,3,7,4,6,3,6,,8,3,6,4,1,3,9,6,4,5,6,8,3,7,3,6,8,2,4,6,1,3,7,4,]\u001b[0m\n\u001b[1;37m                       ^\u001b[0m\n\u001b[1;31mSyntaxError\u001b[0m\u001b[1;31m:\u001b[0m invalid syntax\n"
     ]
    }
   ],
   "source": [
    "l=[2,4,6,1,3,7,4,6,,3,6,,8,3,6,4,1,3,9,6,4,5,6,8,3,7,3,6,8,2,4,6,1,3,7,4,6,3,6,8,3,6,4,1,3,9,6,4,5,6,5.8,6,9,2,4,6,1,3,7,4,6,3,6,,8,3,6,4,1,3,9,6,4,5,6,8,3,7,3,6,8,2,4,6,1,3,7,4,]\n",
    "\n",
    "a=int(input(\"enter the consecutive number:\"))\n",
    "max = 0\n",
    "for x in range(0,len(l)-7):\n",
    "    sum=l[x]+l[x+1]+l[x+2]+l[x+3]+l[x+4]+l[x+5]+l[x+6] \n",
    "        if(max<sum):\n",
    "            max=sum\n",
    "\n",
    "print(max)\n",
    "    \n"
   ]
  },
  {
   "cell_type": "code",
   "execution_count": 11,
   "id": "20582730-4074-4d25-ac27-d596b134467a",
   "metadata": {},
   "outputs": [
    {
     "name": "stdin",
     "output_type": "stream",
     "text": [
      "enter the consecutive number: 12\n"
     ]
    },
    {
     "name": "stdout",
     "output_type": "stream",
     "text": [
      "68\n"
     ]
    }
   ],
   "source": [
    "l=[2,4,6,1,3,7,4,6,3,6,8,3,6,4,1,3,9,6,4,5,6,8,3,7,3,6,8,2,4,6,1,3,7,4,6,3,6,8,3,6,4,1,3,9,6,4,5,6,8,3,7,3,6,8,2,4,6,1,3,7,4,]\n",
    "max = 0\n",
    "con=int(input(\"enter the consecutive number:\"))#time complixities=(n*m)\n",
    "for x in range(0,len(l)-con):\n",
    "    s=0\n",
    "    for j in range(0,con):\n",
    "        s=s+l[x+j]\n",
    "    if(max<s):\n",
    "            max=s    \n",
    "                                              \n",
    "    \n",
    "        \n",
    "\n",
    "print(max)\n",
    "    \n"
   ]
  },
  {
   "cell_type": "code",
   "execution_count": 6,
   "id": "48975591-1ed4-467f-9a22-429f714d00c2",
   "metadata": {},
   "outputs": [
    {
     "name": "stdin",
     "output_type": "stream",
     "text": [
      "enter the consecutive number: 10\n"
     ]
    },
    {
     "name": "stdout",
     "output_type": "stream",
     "text": [
      "57\n"
     ]
    }
   ],
   "source": [
    "l=[2,4,6,1,3,7,4,6,3,6,8,3,6,4,1,3,9,6,4,5,6,8,3,7,3,6,8,2,4,6,1,3,7,4,6,3,6,8,3,6,4,1,3,9,6,4,5,6,8,3,7,3,6,8,2,4,6,1,3,7,4,]\n",
    "max = 0\n",
    "sum=0\n",
    "con=int(input(\"enter the consecutive number:\"))\n",
    "for i in range(0,con):\n",
    "    sum=sum+l[i]\n",
    "for x in range(0,len(l)-con-1):\n",
    "        if max<sum:\n",
    "            max=sum\n",
    "        sum=sum+l[x+con]-l[x]    \n",
    "            \n",
    "    \n",
    "    \n",
    "                                              \n",
    "    \n",
    "        \n",
    "\n",
    "print(max)\n",
    "    \n"
   ]
  },
  {
   "cell_type": "code",
   "execution_count": 13,
   "id": "bd4456a4-9fae-4d2e-a1f9-4e2178709b5e",
   "metadata": {},
   "outputs": [
    {
     "name": "stdout",
     "output_type": "stream",
     "text": [
      "The sorted list is:  [2, 3, 5, 6, 7]\n"
     ]
    }
   ],
   "source": [
    "l=[3,5,2,6,7]\n",
    "\n",
    " \n",
    "def bubblesort(l):    \n",
    "    for i in range(0,5):  \n",
    "        for j in range(4):  \n",
    "            if(l[j]>l[j+1]):  \n",
    "                temp = l[j]  \n",
    "                l[j] = l[j+1]  \n",
    "                l[j+1] = temp  \n",
    "    return l  \n",
    "  \n",
    "  \n",
    "print(\"The sorted list is: \", bubblesort(l))  \n",
    "\n"
   ]
  },
  {
   "cell_type": "code",
   "execution_count": 14,
   "id": "86646959-6032-4082-9414-c691329c4d64",
   "metadata": {},
   "outputs": [
    {
     "name": "stdout",
     "output_type": "stream",
     "text": [
      "[1, 2, 3, 4, 8, 9]\n"
     ]
    }
   ],
   "source": [
    "a=[2,8,9,4,3,1]#insertion sort\n",
    "\n",
    "for i in range(1,len(a)):\n",
    "    \n",
    "        temp=a[i]\n",
    "        j=i-1\n",
    "        while j>=0 and temp < a[j]:\n",
    "            a[j+1]=a[j]\n",
    "            j -=1\n",
    "        a[j+1] = temp\n",
    "\n",
    "print(a)\n",
    "        \n",
    "\n",
    "\n",
    "    \n",
    "\n"
   ]
  },
  {
   "cell_type": "markdown",
   "id": "d89cee81-367f-46c1-ba63-baee4fd141b7",
   "metadata": {},
   "source": [
    "selection sort\n",
    "\n",
    "smallest element among the list"
   ]
  },
  {
   "cell_type": "code",
   "execution_count": 13,
   "id": "c57fb4f6-7f93-4ceb-b05a-080a5287d12f",
   "metadata": {},
   "outputs": [
    {
     "name": "stdout",
     "output_type": "stream",
     "text": [
      "[2, 3, 4, 6, 9]\n"
     ]
    }
   ],
   "source": [
    "a=[4,6,9,3,2]  # selection sort\n",
    "\n",
    "for i in range(0,len(a)):\n",
    "    minidx=i\n",
    "    for j in range(i+1,len(a)):\n",
    "        if a[minidx]>a[j]:\n",
    "            minidx=j\n",
    "\n",
    "    temp=a[i]\n",
    "    a[i]=a[minidx] \n",
    "    a[minidx]=temp\n",
    "\n",
    "print(a)\n"
   ]
  },
  {
   "cell_type": "code",
   "execution_count": 17,
   "id": "f7c35485-87c0-4201-a891-dfb80e70e248",
   "metadata": {},
   "outputs": [
    {
     "name": "stdout",
     "output_type": "stream",
     "text": [
      "trupti got 9.9 cgp and 10 sgp in 3rd sem \n",
      "congrats\n"
     ]
    }
   ],
   "source": [
    "print(\"trupti got 9.9 cgp and 10 sgp in 3rd sem \")\n",
    "print(\"congrats\")"
   ]
  },
  {
   "cell_type": "code",
   "execution_count": 21,
   "id": "50107047-27a9-4349-952f-4be6c0f317cc",
   "metadata": {},
   "outputs": [
    {
     "name": "stdout",
     "output_type": "stream",
     "text": [
      "2\n"
     ]
    }
   ],
   "source": [
    "arr=[4,6,9,3,2]\n",
    "m=arr[j]\n",
    "for i in range(len(arr)):\n",
    "    if arr[i]<m:\n",
    "        m=arr[i]\n",
    "        a=i\n",
    "\n",
    "print(m)\n",
    "arr[a],arr["
   ]
  },
  {
   "cell_type": "code",
   "execution_count": null,
   "id": "c3eb8d47-cf40-496a-81b2-0c9e2ec2f60e",
   "metadata": {},
   "outputs": [],
   "source": [
    "#binary search\n",
    "l=[4,6,9,3,27,98,70,67,56]\n",
    "l.sort()\n",
    "print(l)\n",
    "low=0\n",
    "high=len(l)\n",
    "src=int(input())\n",
    "try:\n",
    "    print(\"index of element is\",l.index(src))\n",
    "except:\n",
    "    print(\"item not found in list\")\n",
    "flag=0\n",
    "while low<high:\n",
    "    mid=int(low+(low+high)/2)\n",
    "    print(\"low:\",low,\"high:\",high,\"mid\",mid)\n",
    "    if src<l[mid]:\n",
    "       high=mid-1\n",
    "    elif src>l[mid]:\n",
    "        low=mid+1\n",
    "    else:\n",
    "        flag=1\n",
    "        break;\n",
    "if flag==1:\n",
    "     print(\"element found at\",mid)\n",
    "else:\n",
    "    print(\"element not found\")"
   ]
  },
  {
   "cell_type": "code",
   "execution_count": 3,
   "id": "99237049-98b3-4138-8c7c-9273abe4a676",
   "metadata": {},
   "outputs": [
    {
     "name": "stdout",
     "output_type": "stream",
     "text": [
      "[0, 3, 4, 5, 6, 8]\n"
     ]
    }
   ],
   "source": [
    "#quick sort\n",
    "\n",
    "l=[3,5,8,4,0,6]\n",
    "def quicksort(l):\n",
    "    if len(l) <=1:\n",
    "        return l\n",
    "\n",
    "    else:\n",
    "        pivot=l[0]\n",
    "        left=[x for x in l[1:]if x <=pivot]\n",
    "        right=[x for x in l[1:]if x>=pivot]\n",
    "        return quicksort(left)+[pivot]+quicksort(right)\n",
    "\n",
    "sorted_l=quicksort(l)\n",
    "print(sorted_l)\n",
    "\n"
   ]
  },
  {
   "cell_type": "code",
   "execution_count": 7,
   "id": "09d6db37-33a4-4194-a21f-ed51ffea9211",
   "metadata": {},
   "outputs": [
    {
     "name": "stdout",
     "output_type": "stream",
     "text": [
      "[1, 2, 3, 4, 5, 6, 7, 8, 9]\n"
     ]
    }
   ],
   "source": [
    "#quick sort\n",
    "def findpi(ar,low,high):\n",
    "    pe=ar[high]\n",
    "    j=low-1\n",
    "    for i in range(low,high):\n",
    "        if pe>ar[i]:\n",
    "            j+=1\n",
    "            ar[i],ar[j]=ar[j],ar[i]\n",
    "    ar[high],ar[j+1]=ar[j+1],ar[high]\n",
    "    return j+1\n",
    "\n",
    "def quicksort(ar,low,high):\n",
    "    if low < high:\n",
    "        pi = findpi(ar,low,high)\n",
    "        quicksort(ar,low,pi-1)\n",
    "        quicksort(ar,pi+1,high)\n",
    "\n",
    "ar = [3,5,7,2,4,8,1,9,6]\n",
    "\n",
    "quicksort(ar,0,len(ar)-1)\n",
    "\n",
    "print(ar)\n",
    "\n",
    "\n",
    "    "
   ]
  },
  {
   "cell_type": "code",
   "execution_count": 15,
   "id": "ab4d0aa5-e05c-4d42-9c82-7c89c171c609",
   "metadata": {},
   "outputs": [
    {
     "name": "stdin",
     "output_type": "stream",
     "text": [
      "enter a string: this is a car)\n"
     ]
    },
    {
     "name": "stdout",
     "output_type": "stream",
     "text": [
      "not a valid\n"
     ]
    }
   ],
   "source": [
    "b=input(\"enter a string:\")\n",
    "\n",
    "if b=='(' and b==')':\n",
    "    print(\"its a valid\")\n",
    "else:\n",
    "    print(\"not a valid\")\n"
   ]
  },
  {
   "cell_type": "code",
   "execution_count": 18,
   "id": "1459c1da-e78d-4984-bcf0-ca1fe30ee082",
   "metadata": {},
   "outputs": [
    {
     "name": "stdin",
     "output_type": "stream",
     "text": [
      " this is(\n"
     ]
    },
    {
     "name": "stdout",
     "output_type": "stream",
     "text": [
      "invalid string\n"
     ]
    }
   ],
   "source": [
    "S=input()\n",
    "x=y=z=0\n",
    "for c in S:\n",
    "    match (c):\n",
    "         case '(':x+=1\n",
    "         case ')':x-=1\n",
    "         case '{':y+=1\n",
    "         case '}':y-=1\n",
    "         case '[':z+=1\n",
    "         case ']':z-=1\n",
    "         case _: continue\n",
    "\n",
    "if x+y+z == 0:\n",
    "    print(\"valid string\")\n",
    "else:\n",
    "    print(\"invalid string\")\n",
    "    "
   ]
  },
  {
   "cell_type": "code",
   "execution_count": 2,
   "id": "0c22ce24-eaeb-43f4-a97d-beba10e3178f",
   "metadata": {},
   "outputs": [
    {
     "name": "stdin",
     "output_type": "stream",
     "text": [
      "enter a satck: 9\n"
     ]
    },
    {
     "name": "stdout",
     "output_type": "stream",
     "text": [
      "[3, 8, 9, 0, 78, 9]\n"
     ]
    }
   ],
   "source": [
    "s=[3,8,9,0,78]\n",
    "a=int(input(\"enter a satck:\"))\n",
    "s.append(a)\n",
    "print(s)      \n"
   ]
  },
  {
   "cell_type": "code",
   "execution_count": 5,
   "id": "b32821e1-e2f2-423a-8c40-7e0b8cf36754",
   "metadata": {},
   "outputs": [
    {
     "name": "stdout",
     "output_type": "stream",
     "text": [
      "item added to the stack\n",
      "item added to the stack\n",
      "item added to the stack\n",
      "[3, 4, 9]\n",
      "item need to be deleted from the stack:\n",
      "[3, 4]\n"
     ]
    }
   ],
   "source": [
    "def add(e):\n",
    "    s.append(e)\n",
    "    print(\"item added to the stack\")\n",
    "def delete():\n",
    "    s.pop()\n",
    "    print(\"item need to be deleted from the stack:\")\n",
    "\n",
    "s=[]\n",
    "add(3)\n",
    "add(4)\n",
    "add(9)\n",
    "print(s)\n",
    "\n",
    "delete()\n",
    "print(s)\n",
    "    "
   ]
  },
  {
   "cell_type": "code",
   "execution_count": null,
   "id": "517bfd87-4fc9-4058-bc36-6a216c424a1a",
   "metadata": {},
   "outputs": [],
   "source": [
    "def add(e):\n",
    "    q.append(e)\n",
    "    print(\"item added to the queue:\")\n",
    "def remove():\n",
    "    q.front()\n",
    "    print(\"item need to be removed from the queue:\")\n",
    "\n"
   ]
  },
  {
   "cell_type": "code",
   "execution_count": null,
   "id": "9386a9c2-e90e-4d5c-80a6-7961f9458d73",
   "metadata": {},
   "outputs": [],
   "source": []
  }
 ],
 "metadata": {
  "kernelspec": {
   "display_name": "Python 3 (ipykernel)",
   "language": "python",
   "name": "python3"
  },
  "language_info": {
   "codemirror_mode": {
    "name": "ipython",
    "version": 3
   },
   "file_extension": ".py",
   "mimetype": "text/x-python",
   "name": "python",
   "nbconvert_exporter": "python",
   "pygments_lexer": "ipython3",
   "version": "3.12.3"
  }
 },
 "nbformat": 4,
 "nbformat_minor": 5
}
