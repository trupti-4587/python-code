{
 "cells": [
  {
   "cell_type": "code",
   "execution_count": 1,
   "id": "d79a95ab-2234-4b50-bb20-08fd6e8af972",
   "metadata": {},
   "outputs": [
    {
     "name": "stdin",
     "output_type": "stream",
     "text": [
      "Enter your name:  trupti\n",
      "enter your age:  21\n"
     ]
    },
    {
     "name": "stdout",
     "output_type": "stream",
     "text": [
      "you are elegible\n"
     ]
    }
   ],
   "source": [
    "Name=input(\"Enter your name: \")\n",
    "age=int(input(\"enter your age: \"))\n",
    "\n",
    "if age>=18:\n",
    "    print(\"you are elegible\")\n",
    "else:\n",
    "    print(Name)\n",
    "    print(\"you are not elegible\")\n",
    "    "
   ]
  },
  {
   "cell_type": "code",
   "execution_count": 2,
   "id": "93d8abdd-8ace-44c9-892d-c27aac677d2e",
   "metadata": {},
   "outputs": [
    {
     "name": "stdin",
     "output_type": "stream",
     "text": [
      "Enter your name:  pratik\n",
      "enter your age:  16\n"
     ]
    },
    {
     "name": "stdout",
     "output_type": "stream",
     "text": [
      "pratik\n",
      "you are not elegible\n"
     ]
    }
   ],
   "source": [
    "Name=input(\"Enter your name: \")\n",
    "age=int(input(\"enter your age: \"))\n",
    "\n",
    "if age>=18:\n",
    "    print(\"you are elegible\")\n",
    "else:\n",
    "    print(Name)\n",
    "    print(\"you are not elegible\")\n",
    "    "
   ]
  },
  {
   "cell_type": "code",
   "execution_count": 3,
   "id": "9b13ec32-7ca3-49a9-997c-d8313988697b",
   "metadata": {},
   "outputs": [
    {
     "name": "stdin",
     "output_type": "stream",
     "text": [
      "enter first number: 5\n",
      "enter second number: 9\n"
     ]
    },
    {
     "name": "stdout",
     "output_type": "stream",
     "text": [
      "b is greater:\n"
     ]
    }
   ],
   "source": [
    "a=int(input(\"enter first number:\"))\n",
    "b=int(input(\"enter second number:\"))\n",
    "if a>b:\n",
    "    print(\"a is greater:\")\n",
    "else:\n",
    "    print(\"b is greater:\")"
   ]
  },
  {
   "cell_type": "code",
   "execution_count": 10,
   "id": "79f8079b-680c-4391-8b75-0602628a859d",
   "metadata": {},
   "outputs": [
    {
     "name": "stdin",
     "output_type": "stream",
     "text": [
      "enter first number: 5\n",
      "enter second number: 4\n",
      "enter third number:  6\n"
     ]
    },
    {
     "name": "stdout",
     "output_type": "stream",
     "text": [
      "c is largest\n"
     ]
    }
   ],
   "source": [
    "a=int(input(\"enter first number:\"))\n",
    "b=int(input(\"enter second number:\"))\n",
    "c=int(input(\"enter third number: \"))\n",
    "if a>b:\n",
    "    if a>c:\n",
    "        print(\"a is largest\")\n",
    "    else:\n",
    "        print(\"c is largest\")\n",
    "else:\n",
    "    if b>c:\n",
    "        print(\"b is largest\")\n",
    "    else:\n",
    "        print(\"c is largest\")"
   ]
  },
  {
   "cell_type": "code",
   "execution_count": 11,
   "id": "41e758df-68ef-4bf1-b4b3-791f98328ee3",
   "metadata": {},
   "outputs": [
    {
     "name": "stdin",
     "output_type": "stream",
     "text": [
      "enter the marks 56\n"
     ]
    },
    {
     "name": "stdout",
     "output_type": "stream",
     "text": [
      "grade = C+\n"
     ]
    }
   ],
   "source": [
    "marks=int(input(\"enter the marks\"))\n",
    "if marks>=90 and marks<100:\n",
    "    print(\"grade = A+\")\n",
    "else:\n",
    "    if marks>=80 and marks<90:\n",
    "        print(\"grade = A\")\n",
    "    else:\n",
    "        if marks>=70 and marks<80:\n",
    "            print(\"grade = B+\")\n",
    "        else:\n",
    "            if marks>=60 and marks<70:\n",
    "                print(\"grade = B\")\n",
    "            else:\n",
    "                if marks>=50 and marks<60:\n",
    "                    print(\"grade = C+\")\n",
    "                else:\n",
    "                    if marks>=40 and marks<50:\n",
    "                        print(\"grade = C\")\n",
    "                    else:\n",
    "                        if marks>=30 and marks<40:\n",
    "                            print(\"grade = D+\")\n",
    "                        else:\n",
    "                            if marks>=20 and marks<30:\n",
    "                                print(\"grade = D\")\n",
    "                            else:\n",
    "                                if marks>=10 and marks<20:\n",
    "                                    print(\"grade = E+\")\n",
    "                                \n",
    "                        \n",
    "    \n",
    "         \n",
    "\n"
   ]
  },
  {
   "cell_type": "code",
   "execution_count": 14,
   "id": "79b58710-94ef-4e8d-9dbf-bf04c87de8f8",
   "metadata": {},
   "outputs": [
    {
     "name": "stdin",
     "output_type": "stream",
     "text": [
      "enter the Day number:  0\n"
     ]
    },
    {
     "name": "stdout",
     "output_type": "stream",
     "text": [
      "invalid number\n"
     ]
    }
   ],
   "source": [
    "Day= int(input(\"enter the Day number: \"))\n",
    "\n",
    "match Day:\n",
    "      case 1: print(\"Sunday\")\n",
    "      case 2: print(\"Monday\")\n",
    "      case 3: print(\"Tuesday\")\n",
    "      case 4: print(\"Wednesday\")\n",
    "      case 5: print(\"Thrusday\")\n",
    "      case 6: print(\"Friday\")\n",
    "      case 7: print(\"Saturday\")\n",
    "      case _ :print(\"invalid number\")    \n",
    "              "
   ]
  },
  {
   "cell_type": "code",
   "execution_count": 20,
   "id": "ae72a324-3d5f-48f6-bec1-4935a8885363",
   "metadata": {},
   "outputs": [
    {
     "name": "stdin",
     "output_type": "stream",
     "text": [
      "enter the Day number:  10\n"
     ]
    },
    {
     "name": "stdout",
     "output_type": "stream",
     "text": [
      "Ten\n"
     ]
    }
   ],
   "source": [
    "Day= int(input(\"enter the Day number: \"))\n",
    "\n",
    "match Day:\n",
    "      case 1: print(\"Sunday\")\n",
    "      case 2: print(\"Monday\")\n",
    "      case 3: print(\"Tuesday\")\n",
    "      case 4: print(\"Wednesday\")\n",
    "      case 5: print(\"Thrusday\")\n",
    "      case 6: print(\"Friday\")\n",
    "      case 7: print(\"Saturday\")\n",
    "      case _ if Day == 10:\n",
    "              print(\"Ten\")\n",
    "      case _ if Day == 0:\n",
    "                print(\"Zero\")\n",
    "      case _: print(\"invalid\") \n",
    "                \n",
    "          \n",
    "              "
   ]
  },
  {
   "cell_type": "code",
   "execution_count": 24,
   "id": "198145ef-e58d-4a08-929c-686320edac3a",
   "metadata": {},
   "outputs": [
    {
     "name": "stdin",
     "output_type": "stream",
     "text": [
      "enter the Day number:  12\n"
     ]
    },
    {
     "name": "stdout",
     "output_type": "stream",
     "text": [
      "invalid\n"
     ]
    }
   ],
   "source": [
    "Day= int(input(\"enter the Day number: \"))\n",
    "\n",
    "match Day:\n",
    "      case 1: print(\"Sunday\")\n",
    "      case 2: print(\"Monday\")\n",
    "      case 3: print(\"Tuesday\")\n",
    "      case 4: print(\"Wednesday\")\n",
    "      case 5: print(\"Thrusday\")\n",
    "      case 6: print(\"Friday\")\n",
    "      case 7: print(\"Saturday\")\n",
    "      case _ if Day == 10:\n",
    "              print(\"Ten\")\n",
    "      case _ if Day >=13 and Day<=19:\n",
    "                print(\"teens\")\n",
    "      case _: print(\"invalid\") \n",
    "                "
   ]
  },
  {
   "cell_type": "code",
   "execution_count": null,
   "id": "0731844a-9453-4258-a90e-92ef60928e60",
   "metadata": {},
   "outputs": [],
   "source": [
    "human cycle= int(input(\"enter the: \"))\n",
    "\n",
    "match Day:\n",
    "      case 1: print(\"Sunday\")\n",
    "      case 2: print(\"Monday\")\n",
    "      case 3: print(\"Tuesday\")\n",
    "      case 4: print(\"Wednesday\")\n",
    "      case 5: print(\"Thrusday\")\n",
    "      case 6: print(\"Friday\")\n",
    "      case 7: print(\"Saturday\")\n",
    "      case _ if Day == 10:\n",
    "              print(\"Ten\")\n",
    "      case _ if Day == 0:\n",
    "                print(\"Zero\")\n",
    "      case _: print(\"invalid\") \n",
    "                \n",
    "          "
   ]
  },
  {
   "cell_type": "code",
   "execution_count": 32,
   "id": "f8a3f8ad-f8b7-40b5-8a58-2aae1b09e547",
   "metadata": {},
   "outputs": [
    {
     "name": "stdout",
     "output_type": "stream",
     "text": [
      "0\n",
      "1\n",
      "2\n",
      "3\n",
      "4\n",
      "5\n",
      "6\n",
      "7\n",
      "8\n",
      "9\n"
     ]
    }
   ],
   "source": [
    "for x in range(0,10,):\n",
    "    print(x)"
   ]
  },
  {
   "cell_type": "code",
   "execution_count": 26,
   "id": "669ce2d5-fe10-4592-99ed-18b1d1e3e72c",
   "metadata": {},
   "outputs": [
    {
     "name": "stdout",
     "output_type": "stream",
     "text": [
      "0\n",
      "1\n",
      "2\n",
      "3\n",
      "4\n",
      "5\n",
      "6\n",
      "7\n",
      "8\n",
      "9\n"
     ]
    }
   ],
   "source": [
    "x=0#initlization\n",
    "while x<10:#condition\n",
    "    print(x)#working staement\n",
    "    x=x+1#incremeant"
   ]
  },
  {
   "cell_type": "code",
   "execution_count": 30,
   "id": "0fbd12f2-5b4d-49eb-8122-d4c8dc44c6b9",
   "metadata": {},
   "outputs": [
    {
     "name": "stdout",
     "output_type": "stream",
     "text": [
      "*  \n",
      "*  \n",
      "*  \n",
      "*  \n",
      "*  \n",
      "*  \n",
      "*  \n",
      "*  \n",
      "*  \n",
      "*  \n",
      "*  \n",
      "*  \n",
      "*  \n",
      "*  \n",
      "*  \n"
     ]
    }
   ],
   "source": [
    "def half_pyramid(n):\n",
    "    for i in range(1,n + 1):\n",
    "        for j in range(1,i + 1):\n",
    "            print(\"* \",end=\" \")\n",
    "            print(\"\\r\")\n",
    "n=5\n",
    "half_pyramid(n)"
   ]
  },
  {
   "cell_type": "code",
   "execution_count": null,
   "id": "c9b6e0d7-7058-4fdd-a536-9c94df4200b5",
   "metadata": {},
   "outputs": [],
   "source": [
    "rows = 5\n",
    "for i in range(1,range"
   ]
  },
  {
   "cell_type": "code",
   "execution_count": 35,
   "id": "8c656487-925d-49fa-b8de-0851039f0c14",
   "metadata": {},
   "outputs": [
    {
     "name": "stdout",
     "output_type": "stream",
     "text": [
      "0\n",
      "1\n",
      "2\n",
      "3\n",
      "4\n",
      "5\n",
      "6\n",
      "7\n",
      "8\n",
      "9\n",
      "10\n",
      "10\n",
      "10\n",
      "10\n",
      "10\n",
      "10\n",
      "10\n",
      "10\n",
      "10\n",
      "10\n"
     ]
    }
   ],
   "source": [
    "x=0\n",
    "while x<10:\n",
    "    print(x)\n",
    "    x=x+1\n",
    "\n",
    "for y in range(0,10,):\n",
    "    print(x)"
   ]
  },
  {
   "cell_type": "code",
   "execution_count": 38,
   "id": "2cad5d17-a539-42de-b25b-f84454ec2ef2",
   "metadata": {},
   "outputs": [
    {
     "name": "stdout",
     "output_type": "stream",
     "text": [
      "0\n",
      "1\n",
      "2\n",
      "3\n",
      "4\n",
      "5\n",
      "6\n",
      "7\n",
      "8\n",
      "9\n",
      "yx\n",
      "yx\n",
      "yx\n",
      "yx\n",
      "yx\n",
      "yx\n",
      "yx\n",
      "yx\n",
      "yx\n",
      "yx\n",
      "yx\n",
      "yx\n",
      "yx\n",
      "yx\n",
      "yx\n",
      "yx\n",
      "yx\n",
      "yx\n",
      "yx\n",
      "yx\n",
      "yx\n",
      "yx\n",
      "yx\n",
      "yx\n",
      "yx\n",
      "yx\n",
      "yx\n",
      "yx\n",
      "yx\n",
      "yx\n",
      "yx\n",
      "yx\n",
      "yx\n",
      "yx\n",
      "yx\n",
      "yx\n",
      "yx\n",
      "yx\n",
      "yx\n",
      "yx\n",
      "yx\n",
      "yx\n",
      "yx\n",
      "yx\n",
      "yx\n",
      "yx\n",
      "yx\n",
      "yx\n",
      "yx\n",
      "yx\n",
      "yx\n",
      "yx\n",
      "yx\n",
      "yx\n",
      "yx\n",
      "yx\n",
      "yx\n",
      "yx\n",
      "yx\n",
      "yx\n",
      "yx\n",
      "yx\n",
      "yx\n",
      "yx\n",
      "yx\n",
      "yx\n",
      "yx\n",
      "yx\n",
      "yx\n",
      "yx\n",
      "yx\n",
      "yx\n",
      "yx\n",
      "yx\n",
      "yx\n",
      "yx\n",
      "yx\n",
      "yx\n",
      "yx\n",
      "yx\n",
      "yx\n",
      "yx\n",
      "yx\n",
      "yx\n",
      "yx\n",
      "yx\n",
      "yx\n",
      "yx\n",
      "yx\n",
      "yx\n",
      "yx\n",
      "yx\n",
      "yx\n",
      "yx\n",
      "yx\n",
      "yx\n",
      "yx\n",
      "yx\n",
      "yx\n",
      "yx\n"
     ]
    }
   ],
   "source": [
    "x=0\n",
    "while x<10:\n",
    "    print(x)\n",
    "    x=x+1\n",
    "\n",
    "for y in range(0,10,):\n",
    "    for x in range(0,10,):\n",
    "        print(\"y\"  \"x\")\n",
    "\n",
    "    "
   ]
  },
  {
   "cell_type": "code",
   "execution_count": 37,
   "id": "6faaba88-7266-4c82-bfef-1acebbb3977d",
   "metadata": {},
   "outputs": [
    {
     "name": "stdout",
     "output_type": "stream",
     "text": [
      "0\n",
      "1\n",
      "2\n",
      "3\n",
      "4\n",
      "5\n",
      "6\n",
      "7\n",
      "8\n",
      "9\n",
      "*\n",
      "**\n",
      "***\n",
      "****\n",
      "*****\n",
      "******\n",
      "*******\n",
      "********\n",
      "*********\n",
      "**********\n"
     ]
    }
   ],
   "source": [
    "x=0\n",
    "while x<10:\n",
    "    print(x)\n",
    "    x=x+1\n",
    "for y in range(0,10):\n",
    "    for x in range(0,y+1):\n",
    "        print(\"*\" ,end=\"\")\n",
    "    print()"
   ]
  },
  {
   "cell_type": "code",
   "execution_count": 8,
   "id": "7c0eb71b-78f7-4fba-b89f-4b407af05076",
   "metadata": {},
   "outputs": [
    {
     "name": "stdout",
     "output_type": "stream",
     "text": [
      "****\n",
      "***\n",
      "**\n",
      "*\n",
      "\n"
     ]
    }
   ],
   "source": [
    "for y in range(0,5):\n",
    "    for x in range(0,x):\n",
    "        print(\"*\" ,end=\"\")\n",
    "    print()"
   ]
  },
  {
   "cell_type": "code",
   "execution_count": 11,
   "id": "decc31eb-9f28-4167-ab20-d7f170021597",
   "metadata": {},
   "outputs": [
    {
     "name": "stdin",
     "output_type": "stream",
     "text": [
      "Enter the limit 4\n"
     ]
    },
    {
     "name": "stdout",
     "output_type": "stream",
     "text": [
      "0 1 1 2 "
     ]
    }
   ],
   "source": [
    "#fibonnic series\n",
    "a=0\n",
    "b=1\n",
    "n=int(input(\"Enter the limit\"))\n",
    "print(a,b, end=\" \")\n",
    "for n in range(0,n-2):\n",
    "    c=a+b\n",
    "    print(c,end=\" \")\n",
    "    a=b\n",
    "    b=c\n",
    "      \n"
   ]
  },
  {
   "cell_type": "code",
   "execution_count": 12,
   "id": "39f7a851-3a0c-4a26-ba06-06350cbdf065",
   "metadata": {},
   "outputs": [
    {
     "name": "stdin",
     "output_type": "stream",
     "text": [
      " 4\n",
      " 4\n"
     ]
    },
    {
     "name": "stdout",
     "output_type": "stream",
     "text": [
      "8\n"
     ]
    }
   ],
   "source": [
    "#FUNCTIONS\n",
    "def abcd(a,b):\n",
    "    c=a+b\n",
    "    return c\n",
    "\n",
    "A=int(input())\n",
    "B=int(input())\n",
    "print(abcd(A,B))"
   ]
  },
  {
   "cell_type": "code",
   "execution_count": 15,
   "id": "6270d555-679f-4d9b-8b0b-10cc9f546c76",
   "metadata": {},
   "outputs": [
    {
     "name": "stdin",
     "output_type": "stream",
     "text": [
      " 5\n",
      " 4\n"
     ]
    },
    {
     "name": "stdout",
     "output_type": "stream",
     "text": [
      "2\n"
     ]
    }
   ],
   "source": [
    "def abcd(a,b):\n",
    "    print(c)\n",
    "    return \n",
    "\n",
    "A=int(input())\n",
    "B=int(input())\n",
    "#print(abcd(A,B))\n",
    "abcd(A,B)"
   ]
  },
  {
   "cell_type": "code",
   "execution_count": 2,
   "id": "13184fdb-2d5d-494c-8bae-50f0f67fa5f9",
   "metadata": {},
   "outputs": [
    {
     "name": "stdout",
     "output_type": "stream",
     "text": [
      "\n",
      "\n",
      "*\n",
      "**\n",
      "***\n"
     ]
    }
   ],
   "source": [
    "for y in range(0,5):\n",
    "    for x in range(0,y-1):\n",
    "        print(\"*\" ,end=\"\")\n",
    "    print()"
   ]
  },
  {
   "cell_type": "code",
   "execution_count": 7,
   "id": "c723ff7c-42c4-419c-98bf-d3329df2beff",
   "metadata": {},
   "outputs": [
    {
     "name": "stdout",
     "output_type": "stream",
     "text": [
      "* * * * * \n",
      "* * * * * \n",
      "* * * * * \n",
      "* * * * * \n",
      "* * * * * \n"
     ]
    }
   ],
   "source": [
    "for x in range(0,5):\n",
    "    for y in range(0,y+1):\n",
    "        print(\"*\" ,end=\" \")\n",
    "    print()"
   ]
  },
  {
   "cell_type": "code",
   "execution_count": 11,
   "id": "0ed1f5c2-dd4d-4cff-9867-2b9c5c124371",
   "metadata": {},
   "outputs": [
    {
     "name": "stdout",
     "output_type": "stream",
     "text": [
      "num \n",
      "num num \n",
      "num num num \n",
      "num num num num \n",
      "num num num num num \n"
     ]
    }
   ],
   "source": [
    "for y in range(0,5):\n",
    "    for x in range(0,y+1):\n",
    "        print(\"\" ,end=\" \")\n",
    "    print()"
   ]
  },
  {
   "cell_type": "code",
   "execution_count": null,
   "id": "395dba50-1cf8-406f-99a4-517fba940e22",
   "metadata": {},
   "outputs": [],
   "source": [
    "rows=int(input(\"enter the number of rows:\"))\n",
    "for i in range(1,rows+1"
   ]
  }
 ],
 "metadata": {
  "kernelspec": {
   "display_name": "Python 3 (ipykernel)",
   "language": "python",
   "name": "python3"
  },
  "language_info": {
   "codemirror_mode": {
    "name": "ipython",
    "version": 3
   },
   "file_extension": ".py",
   "mimetype": "text/x-python",
   "name": "python",
   "nbconvert_exporter": "python",
   "pygments_lexer": "ipython3",
   "version": "3.12.3"
  }
 },
 "nbformat": 4,
 "nbformat_minor": 5
}
