{
 "cells": [
  {
   "cell_type": "code",
   "execution_count": null,
   "id": "e2d81cbb-c686-44e9-b260-59d31e8f45ed",
   "metadata": {},
   "outputs": [],
   "source": [
    "Oops Concept\n",
    "\n"
   ]
  },
  {
   "cell_type": "code",
   "execution_count": 1,
   "id": "17a9a6e8-f46b-4d5a-9c4c-95036c42a5fc",
   "metadata": {},
   "outputs": [
    {
     "name": "stdout",
     "output_type": "stream",
     "text": [
      "<class 'int'>\n"
     ]
    }
   ],
   "source": [
    "a=5\n",
    "print(type(a))"
   ]
  },
  {
   "cell_type": "code",
   "execution_count": 4,
   "id": "47a3bee4-176f-4a44-9f79-81f3e03061be",
   "metadata": {},
   "outputs": [
    {
     "name": "stdout",
     "output_type": "stream",
     "text": [
      "this laptop have i5 8gm Ram 1TB SSD\n",
      "0\n"
     ]
    }
   ],
   "source": [
    "class laptop:\n",
    "    a=0\n",
    "    def config(self):\n",
    "        print(\"this laptop have i5 8gm Ram 1TB SSD\")\n",
    "\n",
    "\n",
    "\n",
    "hp = laptop()\n",
    "hp.config()\n",
    "print(hp.a)"
   ]
  },
  {
   "cell_type": "code",
   "execution_count": null,
   "id": "56a1f4c4-b749-4eae-896b-a365411a8d63",
   "metadata": {},
   "outputs": [],
   "source": [
    "self is keyword it denotes itself we have to make as a parmaeter\n",
    "instance variable\n",
    "class variable=a=0\n"
   ]
  },
  {
   "cell_type": "code",
   "execution_count": 8,
   "id": "e9b4a3a3-60d2-450e-84fd-d0c967714762",
   "metadata": {},
   "outputs": [
    {
     "ename": "IndentationError",
     "evalue": "unindent does not match any outer indentation level (<string>, line 6)",
     "output_type": "error",
     "traceback": [
      "\u001b[1;36m  File \u001b[1;32m<string>:6\u001b[1;36m\u001b[0m\n\u001b[1;33m    def __init__(self,value):\u001b[0m\n\u001b[1;37m                             ^\u001b[0m\n\u001b[1;31mIndentationError\u001b[0m\u001b[1;31m:\u001b[0m unindent does not match any outer indentation level\n"
     ]
    }
   ],
   "source": [
    "class laptop:\n",
    "    a=0\n",
    "    def config(self):\n",
    "        print(\"this laptop have i5 8gm Ram 1TB SSD\")\n",
    "\n",
    "     def __init__(self,value):\n",
    "         self.b=value\n",
    "\n",
    "Acer = laptop(20)\n",
    "\n",
    "print(Acer.a)\n",
    "print(Acer.b)\n"
   ]
  },
  {
   "cell_type": "code",
   "execution_count": null,
   "id": "0fc3c8b5-217e-418a-8b2b-111c6fe53b94",
   "metadata": {},
   "outputs": [],
   "source": [
    "create a loptop class\n",
    "with variable as processor, ram and storage\n",
    "\n",
    "create function to print the configuration of the laptops.\n",
    "\n",
    "create 3 object of laptop with different brand and display its configuration"
   ]
  },
  {
   "cell_type": "code",
   "execution_count": 19,
   "id": "0bd0a33e-1af4-4047-a9cd-4fbf7b89c8fb",
   "metadata": {},
   "outputs": [
    {
     "name": "stdout",
     "output_type": "stream",
     "text": [
      "configuration of the laptop is: \n",
      "Processor i5\n",
      "Ram 8\n",
      "Storage 512\n",
      "configuration of the laptop is: \n",
      "Processor i3\n",
      "Ram 7\n",
      "Storage 897\n",
      "configuration of the laptop is: \n",
      "Processor i6\n",
      "Ram 4\n",
      "Storage 250\n"
     ]
    }
   ],
   "source": [
    "class laptop:\n",
    "    a=0\n",
    "    b=0\n",
    "    c=0\n",
    "    def __init__(self,p,r,s):\n",
    "        self.processor=p\n",
    "        self.ram=r\n",
    "        self.storage=s\n",
    "    def config(self):\n",
    "        print(\"confi(guration of the laptop is: \")\n",
    "        print(\"Processor\",self.processor)\n",
    "        print(\"Ram\",self.ram)\n",
    "        print(\"Storage\",self.storage)\n",
    "\n",
    "if __name__==\"__main__\":\n",
    "    hp = laptop(\"i5\",8,512)\n",
    "    hp.config()\n",
    "    dell=laptop(\"i3\",7,897)\n",
    "    dell.config()\n",
    "    asus=laptop(\"i6\",4,250)\n",
    "    asus.config()    \n",
    "        \n",
    "\n",
    "\n",
    "\n",
    "\n",
    "\n",
    "    \n",
    "\n",
    "\n"
   ]
  },
  {
   "cell_type": "code",
   "execution_count": 38,
   "id": "9593dc15-edc4-40c9-ac17-768b1ccc8efa",
   "metadata": {},
   "outputs": [
    {
     "name": "stdout",
     "output_type": "stream",
     "text": [
      "student of the marks: \n",
      "English 67\n",
      "Kannada 34\n",
      "hindi 45\n",
      "Science 56\n",
      "Social 23\n",
      "206.6\n"
     ]
    }
   ],
   "source": [
    "#create a class student which can hold the marks in 5 subjects and also create a functions to print the marks and calculate the avg of 5 subjects\n",
    "\n",
    "\n",
    "class student:\n",
    "    def __init__(self,eng,kan,hin,sci,soc):\n",
    "        self.english=eng\n",
    "        self.kannada=kan\n",
    "        self.hindi=hin\n",
    "        self.science=sci\n",
    "        self.social=soc\n",
    "\n",
    "    def marks(self):\n",
    "          print(\"student of the marks: \")\n",
    "          print(\"English\",self.english)\n",
    "          print(\"Kannada\",self.kannada)\n",
    "          print(\"hindi\",self.hindi)\n",
    "          print(\"Science\",self.science)\n",
    "          print(\"Social\",self.social)\n",
    "\n",
    "\n",
    "if __name__==\"__main__\":\n",
    "    m=student(67,34,45,56,23)\n",
    "    m.marks()\n",
    "    average=(67+34+45+56+23/5)\n",
    "    print(average)\n",
    "          \n",
    "       \n",
    "       \n",
    "\n",
    "\n",
    "\n"
   ]
  },
  {
   "cell_type": "code",
   "execution_count": 8,
   "id": "eb6f4a3b-20b8-4e4b-99f8-3c4f0ae589a3",
   "metadata": {},
   "outputs": [
    {
     "name": "stdout",
     "output_type": "stream",
     "text": [
      "1\n"
     ]
    },
    {
     "ename": "AttributeError",
     "evalue": "'demo' object has no attribute 'output_Y'",
     "output_type": "error",
     "traceback": [
      "\u001b[1;31m---------------------------------------------------------------------------\u001b[0m",
      "\u001b[1;31mAttributeError\u001b[0m                            Traceback (most recent call last)",
      "Cell \u001b[1;32mIn[8], line 21\u001b[0m\n\u001b[0;32m     19\u001b[0m ob1\u001b[38;5;241m=\u001b[39mdemo(\u001b[38;5;241m1\u001b[39m,\u001b[38;5;241m2\u001b[39m,\u001b[38;5;241m3\u001b[39m)\n\u001b[0;32m     20\u001b[0m ob1\u001b[38;5;241m.\u001b[39moutput_X()\n\u001b[1;32m---> 21\u001b[0m \u001b[43mob1\u001b[49m\u001b[38;5;241;43m.\u001b[39;49m\u001b[43moutput_Y\u001b[49m()\n\u001b[0;32m     22\u001b[0m ob1\u001b[38;5;241m.\u001b[39moutput_Z()\n",
      "\u001b[1;31mAttributeError\u001b[0m: 'demo' object has no attribute 'output_Y'"
     ]
    }
   ],
   "source": [
    "#Acess spicers\n",
    "#public\n",
    "#private\n",
    "#protected\n",
    "\n",
    "class demo:\n",
    "    def __init__(self,a,b,c):\n",
    "        self.x=a\n",
    "        self._y=b\n",
    "        self.__z=c\n",
    "\n",
    "    def output_Z(self):\n",
    "        print(self.__z)\n",
    "    def output_X(self):\n",
    "        print(self.x)\n",
    "    def output_y(self):\n",
    "        print(self._y)\n",
    "\n",
    "ob1=demo(1,2,3)\n",
    "ob1.output_X()\n",
    "ob1.output_Y()\n",
    "ob1.output_Z()"
   ]
  },
  {
   "cell_type": "code",
   "execution_count": 7,
   "id": "62dc6a3e-19f1-4851-8207-fb63f481fe6e",
   "metadata": {},
   "outputs": [
    {
     "name": "stdout",
     "output_type": "stream",
     "text": [
      "this is fun1\n",
      "this is fun2\n"
     ]
    }
   ],
   "source": [
    "#inheritance\n",
    "\n",
    "class a:\n",
    "    def fun1(self):\n",
    "        print(\"this is fun1\")\n",
    "    def fun2(self):\n",
    "        print(\"this is fun2\")\n",
    "\n",
    "class b(a):\n",
    "     def fun3(self):\n",
    "        print(\"this is fun3\")\n",
    "     def fun4(self):\n",
    "        print(\"this is fun4\")\n",
    "\n",
    "if __name__==\"__main__\":\n",
    "    ob1=a()\n",
    "    ob2=b()\n",
    "    \n",
    "ob1.fun1()\n",
    "ob2.fun2()\n",
    "            \n",
    "    "
   ]
  },
  {
   "cell_type": "code",
   "execution_count": 10,
   "id": "318e7ace-5a2b-469e-9558-424f5bb449af",
   "metadata": {},
   "outputs": [
    {
     "name": "stdout",
     "output_type": "stream",
     "text": [
      "constructor of class C\n",
      "fun of class with 1 5\n",
      "fun of class with 2 5\n"
     ]
    }
   ],
   "source": [
    "class c:\n",
    "    def __init__(self):\n",
    "        print(\"constructor of class C\")\n",
    "    def abc(self,a,b=5):\n",
    "        print(\"fun of class with\",a,b)\n",
    "\n",
    "ob=c()\n",
    "ob.abc(1)\n",
    "ob.abc(1,2)\n",
    "            \n",
    "       "
   ]
  },
  {
   "cell_type": "code",
   "execution_count": 23,
   "id": "a1fe03d1-301b-4734-8ada-bb6a1622e7d1",
   "metadata": {},
   "outputs": [
    {
     "name": "stdout",
     "output_type": "stream",
     "text": [
      "professionl laptop having i5 8 512 6hrs\n",
      "gaming laptop have having i5 8 512 2\n"
     ]
    }
   ],
   "source": [
    "class laptop:\n",
    "    def __init__(self,p,r,s):\n",
    "        self.processor=p\n",
    "        self.ram=r\n",
    "        self.storage=s\n",
    "\n",
    "class professional_laptop(laptop):\n",
    "    \n",
    "      def __init__(self,b,p,r,s):\n",
    "          self.backup=b\n",
    "          super().__init__(p,r,s)\n",
    "          \n",
    "class gaming_laptop(laptop):\n",
    "      def __init__(self,g,p,r,s):\n",
    "          self.grapiccard=g\n",
    "          super().__init__(p,r,s)\n",
    "          \n",
    "pro1=professional_laptop(\"6hrs\" ,\"i5\", 8,512)\n",
    "gam1=gaming_laptop(2,\"i5\",8,512)\n",
    "\n",
    "print(\"professionl laptop having\",\n",
    "      pro1.processor,pro1.ram,pro1.storage,pro1.backup)\n",
    "print(\"gaming laptop have having\",\n",
    "      gam1.processor,gam1.ram,gam1.storage,gam1.grapiccard)\n",
    "\n",
    "        "
   ]
  },
  {
   "cell_type": "code",
   "execution_count": null,
   "id": "4790a3ec-142f-4de0-b83a-cf17bf087930",
   "metadata": {},
   "outputs": [],
   "source": [
    "#write a program to demonstrate the working of a railway ticket booking.\n",
    "create required classes like\n",
    "ticket class\n"
   ]
  },
  {
   "cell_type": "code",
   "execution_count": 26,
   "id": "d473f499-b1f9-49c2-a435-9c21f8086392",
   "metadata": {},
   "outputs": [
    {
     "name": "stdout",
     "output_type": "stream",
     "text": [
      "Ticket booked Fare Price will be:  6550\n"
     ]
    }
   ],
   "source": [
    "class ticket\n",
    "   \n",
    "    def __init__(self,D):\n",
    "        self.distance = int(D)\n",
    "        self.farePrice = None\n",
    "\n",
    "class gen(ticket):\n",
    "    def __init__(self,D):\n",
    "        super().__init__(D)\n",
    "    def print_ticket(self):\n",
    "        self.farePrice=50+(self.distance*2)\n",
    "        return self.farePrice\n",
    "        \n",
    "\n",
    "\n",
    "class slp(gen):\n",
    "    def __init__(self,D):\n",
    "        super().__init__(D)\n",
    "\n",
    "    def print_ticket(self):\n",
    "        self.farePrice=super().print_ticket()+(2*self.distance)\n",
    "        return self.farePrice\n",
    "\n",
    "class AC(slp):\n",
    "    def __init__(self,D):\n",
    "        super().__init__(D)\n",
    "    def print_ticket(self):\n",
    "        self.farePrice=super().print_ticket()+(4*self.distance)\n",
    "        return self.farePrice\n",
    "\n",
    "class FC(AC):\n",
    "    def __init__(self,D):\n",
    "        super().__init__(D)\n",
    "    def print_ticket(self):\n",
    "        self.farePrice=super().print_ticket()+(5*self.distance)\n",
    "        return self.farePrice\n",
    "\n",
    "\n",
    "jur = FC(500)\n",
    "print(\"Ticket booked Fare Price will be: \",jur.print_ticket())"
   ]
  },
  {
   "cell_type": "code",
   "execution_count": null,
   "id": "784869c9-176b-411c-af70-720fffb95fe2",
   "metadata": {},
   "outputs": [],
   "source": []
  },
  {
   "cell_type": "code",
   "execution_count": null,
   "id": "0326d7bc-5086-4895-930b-96c61c7e9edf",
   "metadata": {},
   "outputs": [],
   "source": []
  },
  {
   "cell_type": "code",
   "execution_count": null,
   "id": "9d8a848c-0368-4b98-8583-333510d0075f",
   "metadata": {},
   "outputs": [],
   "source": []
  },
  {
   "cell_type": "code",
   "execution_count": null,
   "id": "4ab412da-5821-496e-bd7a-4a50fc250efe",
   "metadata": {},
   "outputs": [],
   "source": []
  }
 ],
 "metadata": {
  "kernelspec": {
   "display_name": "Python 3 (ipykernel)",
   "language": "python",
   "name": "python3"
  },
  "language_info": {
   "codemirror_mode": {
    "name": "ipython",
    "version": 3
   },
   "file_extension": ".py",
   "mimetype": "text/x-python",
   "name": "python",
   "nbconvert_exporter": "python",
   "pygments_lexer": "ipython3",
   "version": "3.12.3"
  }
 },
 "nbformat": 4,
 "nbformat_minor": 5
}
